{
 "cells": [
  {
   "cell_type": "code",
   "execution_count": 7,
   "id": "01987ef6-999c-421b-a507-8b8f8970f1e0",
   "metadata": {},
   "outputs": [
    {
     "name": "stdin",
     "output_type": "stream",
     "text": [
      "Enter the password Data@Scientist#100$\n"
     ]
    },
    {
     "name": "stdout",
     "output_type": "stream",
     "text": [
      "Valid password\n"
     ]
    }
   ],
   "source": [
    "# ANSWER 1\n",
    "password=str(input('Enter the password'))\n",
    "c,d,e,f=0,0,0,0\n",
    "if len(password)>=10:\n",
    "    for i in password:\n",
    "        if i.isupper():\n",
    "            c=c+1\n",
    "        elif i.islower():\n",
    "            d=d+1\n",
    "        elif i.isnumeric():\n",
    "            e=e+1\n",
    "        elif not i.isalnum() and not i.isspace():\n",
    "            f=f+1\n",
    "if c>=2 and d>=2 and e>=1 and f>=3:\n",
    "    print('Valid password')\n",
    "else:\n",
    "    print('Invalid password')"
   ]
  },
  {
   "cell_type": "code",
   "execution_count": 11,
   "id": "1957adf0-03fb-428e-aa1b-5a53eeba0b67",
   "metadata": {},
   "outputs": [
    {
     "name": "stdin",
     "output_type": "stream",
     "text": [
      "Enter your particular letter l\n"
     ]
    },
    {
     "data": {
      "text/plain": [
       "'No'"
      ]
     },
     "execution_count": 11,
     "metadata": {},
     "output_type": "execute_result"
    }
   ],
   "source": [
    "# ANSWER 2\n",
    "# i. To check if the string starts with a particular letter\n",
    "k=str(input('Enter your particular letter'))\n",
    "a=lambda s:'Yes'if s[0]==k else 'No'\n",
    "a('Hello')"
   ]
  },
  {
   "cell_type": "code",
   "execution_count": 15,
   "id": "cce8c985-384c-4b90-b3fe-434577ad5b7d",
   "metadata": {},
   "outputs": [
    {
     "data": {
      "text/plain": [
       "'Yes'"
      ]
     },
     "execution_count": 15,
     "metadata": {},
     "output_type": "execute_result"
    }
   ],
   "source": [
    "# ii. To check if the string is numeric\n",
    "a=lambda s: 'Yes' if s.isnumeric() else 'No'\n",
    "a('13425')\n",
    "        "
   ]
  },
  {
   "cell_type": "code",
   "execution_count": 53,
   "id": "0dfe0113-8ff8-4131-ba0f-69af31ff0a75",
   "metadata": {},
   "outputs": [
    {
     "name": "stdout",
     "output_type": "stream",
     "text": [
      "[('orange', 80), ('mango', 99), ('grapes', 1000)]\n"
     ]
    }
   ],
   "source": [
    "# iii. To sort a list of tuples having fruit names and their quantity.\n",
    "l=[(\"mango\",99),(\"orange\",80),(\"grapes\",1000)]\n",
    "a=sorted(l,key=lambda x: x[1])\n",
    "print(a)\n",
    "        \n",
    "    \n",
    "    \n",
    "    \n",
    "    \n",
    "        \n",
    "        \n",
    "        \n"
   ]
  },
  {
   "cell_type": "code",
   "execution_count": 54,
   "id": "b4580d8f-c7ef-4443-bf25-2b1229da8fe5",
   "metadata": {},
   "outputs": [
    {
     "data": {
      "text/plain": [
       "[1, 4, 9, 16, 25, 36, 49, 64, 81, 100]"
      ]
     },
     "execution_count": 54,
     "metadata": {},
     "output_type": "execute_result"
    }
   ],
   "source": [
    "# iv. To find the squares of numbers from 1 to 10\n",
    "[i**2 for i in range(1,11)]"
   ]
  },
  {
   "cell_type": "code",
   "execution_count": 56,
   "id": "7b1f3931-e3b3-4c3d-af0a-893c361a5141",
   "metadata": {},
   "outputs": [
    {
     "data": {
      "text/plain": [
       "[1.0,\n",
       " 1.2599210498948732,\n",
       " 1.4422495703074083,\n",
       " 1.5874010519681994,\n",
       " 1.7099759466766968,\n",
       " 1.8171205928321397,\n",
       " 1.912931182772389,\n",
       " 2.0,\n",
       " 2.080083823051904,\n",
       " 2.154434690031884]"
      ]
     },
     "execution_count": 56,
     "metadata": {},
     "output_type": "execute_result"
    }
   ],
   "source": [
    "# v. To find the cube root of numbers from 1 to 10\n",
    "[i**(1/3) for i in range (1,11)]"
   ]
  },
  {
   "cell_type": "code",
   "execution_count": 63,
   "id": "a738b8aa-8d6a-483c-815f-c9942f1a1b24",
   "metadata": {},
   "outputs": [
    {
     "name": "stdin",
     "output_type": "stream",
     "text": [
      "Enter the number 10\n"
     ]
    },
    {
     "data": {
      "text/plain": [
       "'Yes'"
      ]
     },
     "execution_count": 63,
     "metadata": {},
     "output_type": "execute_result"
    }
   ],
   "source": [
    "# vi. To check if the given number is even\n",
    "n=int(input('Enter the number'))\n",
    "a=lambda n:\"Yes\" if n%2==0 else \"No\"\n",
    "a(n)"
   ]
  },
  {
   "cell_type": "code",
   "execution_count": 64,
   "id": "1fd27d49-9e7c-43b2-a284-60f79b0b8372",
   "metadata": {},
   "outputs": [
    {
     "name": "stdout",
     "output_type": "stream",
     "text": [
      "[1, 3, 5, 7, 9]\n"
     ]
    }
   ],
   "source": [
    "# vii. To filter odd numbers from the given list\n",
    "l=[1,2,3,4,5,6,7,8,9,10]\n",
    "odd=list(filter(lambda x: x%2!=0,l))\n",
    "print (odd)"
   ]
  },
  {
   "cell_type": "code",
   "execution_count": 68,
   "id": "9727ec9f-1e61-4b88-873b-9d4bd20db08d",
   "metadata": {},
   "outputs": [
    {
     "name": "stdout",
     "output_type": "stream",
     "text": [
      "Positive integers -  [1, 2, 3, 4, 5, 6, 0]\n",
      "Negative integers -  [-1, -2, -3, -4, -5, 0]\n"
     ]
    }
   ],
   "source": [
    "# viii. To sort a list of integers into positive and negative integers list\n",
    "l=[1,2,3,4,5,6,-1,-2,-3,-4,-5,0]\n",
    "l1=[]\n",
    "l2=[]\n",
    "a=list(filter(lambda n: n>=0 ,l))\n",
    "b=list(filter(lambda n: n<=0 ,l))\n",
    "print ('Positive integers - ',a)\n",
    "print('Negative integers - ',b)"
   ]
  },
  {
   "cell_type": "code",
   "execution_count": null,
   "id": "d27a8c60-9db9-4117-b6fc-aaefba0ae8a1",
   "metadata": {},
   "outputs": [],
   "source": []
  }
 ],
 "metadata": {
  "kernelspec": {
   "display_name": "Python 3 (ipykernel)",
   "language": "python",
   "name": "python3"
  },
  "language_info": {
   "codemirror_mode": {
    "name": "ipython",
    "version": 3
   },
   "file_extension": ".py",
   "mimetype": "text/x-python",
   "name": "python",
   "nbconvert_exporter": "python",
   "pygments_lexer": "ipython3",
   "version": "3.10.6"
  }
 },
 "nbformat": 4,
 "nbformat_minor": 5
}
