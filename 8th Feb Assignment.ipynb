{
 "cells": [
  {
   "cell_type": "code",
   "execution_count": 71,
   "id": "a3b3d5aa-0ee0-4dbf-97de-07104674920d",
   "metadata": {},
   "outputs": [],
   "source": [
    "# ANSWER 1\n",
    "# Abstraction in Object-Oriented Programming (OOP) is a concept that allows you to hide complex implementation\n",
    "# details and show only the essential features of an object or class.\n",
    "# Example-\n",
    "import abc\n",
    "class Geometry:      \n",
    "    @abc.abstractmethod\n",
    "    def area(self):\n",
    "        pass\n",
    "    @abc.abstractmethod\n",
    "    def perimeter(self):\n",
    "        pass\n",
    "class sqr:\n",
    "    def __init__(self,a):\n",
    "        self.a=a\n",
    "    def area(self):\n",
    "        A=self.a*self.a\n",
    "        return ('Area is',A)\n",
    "    def perimeter(self):\n",
    "        P=4*self.a\n",
    "        return ('Perimeter is',P)\n",
    "class rec:\n",
    "    def __init__(self,l,b):\n",
    "        self.l=l\n",
    "        self.b=b\n",
    "    def area(self):\n",
    "        A=self.l*self.b\n",
    "        return('Area is',A)\n",
    "    def perimeter(self):\n",
    "        P=2*(self.l+self.b)\n",
    "        return('Perimeter is',P)"
   ]
  },
  {
   "cell_type": "code",
   "execution_count": null,
   "id": "2623291f-d24f-4e29-867e-674d1e92355d",
   "metadata": {},
   "outputs": [
    {
     "data": {
      "text/plain": [
       "('Area is', 16)"
      ]
     },
     "execution_count": 66,
     "metadata": {},
     "output_type": "execute_result"
    }
   ],
   "source": [
    "square=sqr(4)\n",
    "square.area()"
   ]
  },
  {
   "cell_type": "code",
   "execution_count": null,
   "id": "460ccf0b-ab1a-464e-a7c0-d84c55148290",
   "metadata": {},
   "outputs": [
    {
     "data": {
      "text/plain": [
       "('Perimeter is', 6)"
      ]
     },
     "execution_count": 67,
     "metadata": {},
     "output_type": "execute_result"
    }
   ],
   "source": [
    "rectangle=rec(1,2)\n",
    "rectangle.perimeter()"
   ]
  },
  {
   "cell_type": "code",
   "execution_count": null,
   "id": "1e925f1d-bc7d-4c76-8add-ecbe22910b27",
   "metadata": {},
   "outputs": [],
   "source": [
    "# ANSWER 2\n",
    "# abstraction is about defining a clear interface with hidden implementation details, while encapsulation is about bundling data\n",
    "# and methods together while controlling access to that data. These two principles work together to create robust and modular\n",
    "# code in OOP.\n",
    "\n",
    "# Abstraction-\n",
    "import abc\n",
    "class Vehicle(ABC):\n",
    "    @abstractmethod\n",
    "    def start(self):\n",
    "        pass\n",
    "    @abstractmethod\n",
    "    def stop(self):\n",
    "        pass\n",
    "class Car(Vehicle):\n",
    "    def start(self):\n",
    "        print(\"Car started\")\n",
    "    def stop(self):\n",
    "        print(\"Car stopped\")\n",
    "# In this example, Vehicle is an abstract class that defines the abstract methods start and stop. The Car class is a concrete\n",
    "# implementation of Vehicle and provides specific behavior for starting and stopping a car. Users of the Car class don't need to\n",
    "# know the internal details of how starting and stopping work; they can work with the abstraction provided by the Vehicle\n",
    "# interface.\n",
    "\n",
    "# Encapsulation-\n",
    "class Student:\n",
    "    def __init__(self, name, roll_number):\n",
    "        self.__name = name\n",
    "        self.__roll_number = roll_number\n",
    "\n",
    "    def get_name(self):\n",
    "        return self.__name\n",
    "\n",
    "    def set_name(self, name):\n",
    "        self.__name = name\n",
    "\n",
    "    def get_roll_number(self):\n",
    "        return self.__roll_number\n",
    "\n",
    "    def set_roll_number(self, roll_number):\n",
    "        self.__roll_number = roll_number\n",
    "# In this example, the attributes __name and __roll_number are encapsulated within the Student class. Access to these attributes\n",
    "# is controlled through getter and setter methods, allowing for data encapsulation. It prevents direct modification of the\n",
    "# attributes and enforces data integrity.\n",
    "\n"
   ]
  },
  {
   "cell_type": "code",
   "execution_count": 72,
   "id": "c7153389-86b2-4871-801d-b0e5a60827a9",
   "metadata": {},
   "outputs": [],
   "source": [
    "# ANSWER 3\n",
    "# The `abc` module in Python stands for \"Abstract Base Classes.\" It is used to create abstract classes and abstract methods,\n",
    "# which serve as blueprints for other classes. Abstract classes cannot be instantiated themselves; instead, they define a common\n",
    "# interface that subclasses must adhere to by implementing the abstract methods. \n",
    "# The `abc` module helps enforce a structure in object-oriented programming, ensuring that specific methods must be implemented\n",
    "# in subclasses, thus promoting code consistency and providing a clear contract for how classes should behave."
   ]
  },
  {
   "cell_type": "code",
   "execution_count": 73,
   "id": "ff176b69-4d65-4356-bde3-61e929272439",
   "metadata": {},
   "outputs": [],
   "source": [
    "# ANSWER 4\n",
    "# Data abstraction in Python can be achieved through:\n",
    "# 1. Class Definition: Create classes to represent data objects, and define attributes and methods to interact with the data.\n",
    "# 2. Access Control: Use access modifiers (e.g., private attributes with double underscores) to control direct access to data\n",
    "# attributes. Provide getter and setter methods to access and modify data.\n",
    "# 3. Encapsulation: Encapsulate data within classes and provide well-defined interfaces to interact with that data, hiding the\n",
    "# internal details."
   ]
  },
  {
   "cell_type": "code",
   "execution_count": null,
   "id": "8150f334-1839-417b-aa9e-e1b27f844720",
   "metadata": {},
   "outputs": [],
   "source": [
    "# ANSWER 5\n",
    "# No, we cannot create an instance of an abstract class in Python. Abstract classes are meant to be used as blueprints for other\n",
    "# classes. They define abstract methods that must be implemented by their subclasses. Attempting to create an instance of an\n",
    "# abstract class will result in a TypeError."
   ]
  }
 ],
 "metadata": {
  "kernelspec": {
   "display_name": "Python 3 (ipykernel)",
   "language": "python",
   "name": "python3"
  },
  "language_info": {
   "codemirror_mode": {
    "name": "ipython",
    "version": 3
   },
   "file_extension": ".py",
   "mimetype": "text/x-python",
   "name": "python",
   "nbconvert_exporter": "python",
   "pygments_lexer": "ipython3",
   "version": "3.10.6"
  }
 },
 "nbformat": 4,
 "nbformat_minor": 5
}
