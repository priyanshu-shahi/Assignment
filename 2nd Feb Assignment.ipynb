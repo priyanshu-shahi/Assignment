{
 "cells": [
  {
   "cell_type": "code",
   "execution_count": 6,
   "id": "af24f707-45c3-4e72-b077-b5c0b2b66f7d",
   "metadata": {},
   "outputs": [
    {
     "name": "stdout",
     "output_type": "stream",
     "text": [
      "1\n",
      "2\n",
      "3\n",
      "4\n",
      "5\n",
      "1\n",
      "2\n",
      "3\n",
      "4\n",
      "5\n"
     ]
    }
   ],
   "source": [
    "# Q1. When to use a for loop and while loop?\n",
    "# Ans. A For loop is used when we have to run a program continuously for different given values or range \n",
    "#      i.e we know how many times the loop will be executed whereas in While loop the loop will execute until\n",
    "#      a given statement is true.\n",
    "#      Example:-\n",
    "#      For loop\n",
    "a=[1,2,3,4,5]\n",
    "for i in a:\n",
    "    print(i)\n",
    "#      While loop\n",
    "i=0\n",
    "while(i<=4):\n",
    "    print(a[i])\n",
    "    i=i+1\n",
    "    "
   ]
  },
  {
   "cell_type": "code",
   "execution_count": 16,
   "id": "5420b7a2-abd6-4bcf-b5e4-ea8d90b17239",
   "metadata": {},
   "outputs": [
    {
     "name": "stdout",
     "output_type": "stream",
     "text": [
      "55\n",
      "3628800\n",
      "55\n",
      "3628800\n"
     ]
    }
   ],
   "source": [
    "# Q3. Write a python program to print the sum and product of the first 10 natural numbers using for and while\n",
    "#     loop.\n",
    "\n",
    "# Using For loop\n",
    "sum=0\n",
    "product=1\n",
    "for i in (range(1,11)):\n",
    "    sum=sum+i\n",
    "    product=product*i\n",
    "print (sum)\n",
    "print(product)\n",
    "\n",
    "# Using While loop\n",
    "i=1\n",
    "sum=0\n",
    "product=1\n",
    "while(i<11):\n",
    "    sum=sum+i\n",
    "    product=product*i\n",
    "    i=i+1\n",
    "print (sum)\n",
    "print(product)\n"
   ]
  },
  {
   "cell_type": "code",
   "execution_count": 24,
   "id": "6e9e9738-fd81-43ae-8083-b7d35552c5fd",
   "metadata": {},
   "outputs": [
    {
     "name": "stdin",
     "output_type": "stream",
     "text": [
      "Enter the Units of electricity consumed in a month 310\n"
     ]
    },
    {
     "name": "stdout",
     "output_type": "stream",
     "text": [
      "Bill amount is Rs. 2250\n"
     ]
    }
   ],
   "source": [
    "# Q3.Create a python program to compute the electricity bill for a household.\n",
    "\n",
    "unit=float(input(\"Enter the Units of electricity consumed in a month\"))\n",
    "if unit<100:\n",
    "           Bill_amount=4.5*unit\n",
    "elif (unit>100 and unit<200):\n",
    "           Bill_amount=6*unit\n",
    "elif (unit>200 and unit<300):\n",
    "           Bill_amount=10*unit\n",
    "elif (unit>300 and unit<309):\n",
    "           Bill_amount=20*unit\n",
    "elif (unit==310):\n",
    "    Bill_amount=2250\n",
    "else:\n",
    "    Bill_amount=20*unit\n",
    "print(\"Bill amount is Rs.\",Bill_amount)\n",
    "         \n",
    "\n"
   ]
  },
  {
   "cell_type": "code",
   "execution_count": 35,
   "id": "1c9f6a13-c976-4087-aa95-54c5b1ca572f",
   "metadata": {},
   "outputs": [
    {
     "name": "stdout",
     "output_type": "stream",
     "text": [
      "[8, 64, 125, 216, 512, 1000, 1728, 2744, 3375, 4096, 5832, 8000, 10648, 13824, 15625, 17576, 21952, 27000, 32768, 39304, 42875, 46656, 54872, 64000, 74088, 85184, 91125, 97336, 110592, 125000, 140608, 157464, 166375, 175616, 195112, 216000, 238328, 262144, 274625, 287496, 314432, 343000, 373248, 405224, 421875, 438976, 474552, 512000, 551368, 592704, 614125, 636056, 681472, 729000, 778688, 830584, 857375, 884736, 941192, 1000000]\n",
      "[8, 64, 125, 216, 512, 1000, 1728, 2744, 3375, 4096, 5832, 8000, 10648, 13824, 15625, 17576, 21952, 27000, 32768, 39304, 42875, 46656, 54872, 64000, 74088, 85184, 91125, 97336, 110592, 125000, 140608, 157464, 166375, 175616, 195112, 216000, 238328, 262144, 274625, 287496, 314432, 343000, 373248, 405224, 421875, 438976, 474552, 512000, 551368, 592704, 614125, 636056, 681472, 729000, 778688, 830584, 857375, 884736, 941192, 1000000, 8, 64, 125, 216, 512, 1000, 1728, 2744, 3375, 4096, 5832, 8000, 10648, 13824, 15625, 17576, 21952, 27000, 32768, 39304, 42875, 46656, 54872, 64000, 74088, 85184, 91125, 97336, 110592, 125000, 140608, 157464, 166375, 175616, 195112, 216000, 238328, 262144, 274625, 287496, 314432, 343000, 373248, 405224, 421875, 438976, 474552, 512000, 551368, 592704, 614125, 636056, 681472, 729000, 778688, 830584, 857375, 884736, 941192, 1000000]\n"
     ]
    }
   ],
   "source": [
    "# Q4.Create a list of numbers from 1 to 100. Use For loop and While loop to calculate the the cube of each \n",
    "#    number and if the cube of that number is divisible by 4 or 5 then append that number in a list and print\n",
    "#    that list.\n",
    "\n",
    "# Using For loop\n",
    "l=[]\n",
    "for i in (range(1,101)):\n",
    "    cube1=i**3\n",
    "    if (cube1%4==0 or cube1%5==0):\n",
    "        l.append(cube1)\n",
    "print (l)\n",
    "\n",
    "\n",
    "# Using While loop\n",
    "i=1\n",
    "while(i<=100):\n",
    "    cube2=i**3\n",
    "    if (cube2%4==0 or cube2%5==0):\n",
    "        l.append(cube2)\n",
    "    i=i+1\n",
    "print (l)\n",
    "    \n",
    "    "
   ]
  },
  {
   "cell_type": "code",
   "execution_count": 36,
   "id": "2cb6b31b-5e18-4b23-89f5-b7f4595d4c70",
   "metadata": {},
   "outputs": [
    {
     "name": "stdout",
     "output_type": "stream",
     "text": [
      "Vowels are\n",
      "I\n",
      "a\n",
      "o\n",
      "e\n",
      "o\n",
      "e\n",
      "a\n",
      "a\n",
      "a\n",
      "i\n",
      "e\n",
      "i\n",
      "Vowels appeared 12 times\n"
     ]
    }
   ],
   "source": [
    "# Q5. Write a program to filter count vowels in the given string.\n",
    "count=0\n",
    "string=\"I want to become a data scientist\"\n",
    "print('Vowels are')\n",
    "for i in (string):\n",
    "    if (i=='a'or i=='A'or i=='e'or i=='E'or i=='i'or i=='I'or i=='o'or i=='O'or i=='u'or i=='U'):\n",
    "        count=count+1\n",
    "        print(i)\n",
    "print('Vowels appeared',count,'times')"
   ]
  },
  {
   "cell_type": "code",
   "execution_count": null,
   "id": "1f592d2f-333e-4520-849b-282ae9a2334c",
   "metadata": {},
   "outputs": [],
   "source": []
  }
 ],
 "metadata": {
  "kernelspec": {
   "display_name": "Python 3 (ipykernel)",
   "language": "python",
   "name": "python3"
  },
  "language_info": {
   "codemirror_mode": {
    "name": "ipython",
    "version": 3
   },
   "file_extension": ".py",
   "mimetype": "text/x-python",
   "name": "python",
   "nbconvert_exporter": "python",
   "pygments_lexer": "ipython3",
   "version": "3.10.6"
  }
 },
 "nbformat": 4,
 "nbformat_minor": 5
}
