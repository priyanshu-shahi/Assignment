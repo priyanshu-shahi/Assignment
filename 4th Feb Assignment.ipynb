{
 "cells": [
  {
   "cell_type": "code",
   "execution_count": 47,
   "id": "bec6883d-4d98-494c-8bfa-d6ce2a8cdb8c",
   "metadata": {},
   "outputs": [
    {
     "name": "stdout",
     "output_type": "stream",
     "text": [
      "[('ViratKohli', 24936), ('Jack Kallis', 25534), ('Ricky Pointing', 27483), ('Sachin Tendulkar', 34357)]\n"
     ]
    }
   ],
   "source": [
    "# ANSWER 1\n",
    "l=[('Sachin Tendulkar',34357),('Ricky Pointing',27483),('Jack Kallis',25534),('ViratKohli',24936)]\n",
    "l1=[]\n",
    "from functools import reduce\n",
    "for i in range(len(l)):\n",
    "    Sorting=(reduce(lambda x,y: x if x[1]<y[1] else y,l))\n",
    "    l1.append(Sorting)\n",
    "    d=l.index(Sorting)\n",
    "    l.pop(d)\n",
    "    continue\n",
    "print(l1)   "
   ]
  },
  {
   "cell_type": "code",
   "execution_count": 49,
   "id": "c09ba118-4981-460c-9d6e-5479389e4ad2",
   "metadata": {},
   "outputs": [
    {
     "name": "stdout",
     "output_type": "stream",
     "text": [
      "Squares = [1, 4, 9, 16, 25, 36, 49, 64, 81, 100]\n"
     ]
    }
   ],
   "source": [
    "# ANSWER 2\n",
    "l2=[1,2,3,4,5,6,7,8,9,10]\n",
    "a=list(map(lambda x: x**2,l2))\n",
    "print(\"Squares =\",a)"
   ]
  },
  {
   "cell_type": "code",
   "execution_count": 50,
   "id": "6d2c7bac-b62f-4efa-98c1-ba1913d76d2b",
   "metadata": {},
   "outputs": [
    {
     "name": "stdout",
     "output_type": "stream",
     "text": [
      "('1', '2', '3', '4', '5', '6', '7', '8', '9', '10')\n"
     ]
    }
   ],
   "source": [
    "# ANSWER 3\n",
    "l3=[1,2,3,4,5,6,7,8,9,10]\n",
    "b=tuple(map(lambda x:str(x),l3))\n",
    "print(b)"
   ]
  },
  {
   "cell_type": "code",
   "execution_count": 62,
   "id": "38d85d91-bfee-4b2c-bac7-c72c0fc9ce9d",
   "metadata": {},
   "outputs": [
    {
     "name": "stdout",
     "output_type": "stream",
     "text": [
      "Product of the numbers from 1 to 25 is 15511210043330985984000000\n"
     ]
    }
   ],
   "source": [
    "# ANSWER 4\n",
    "l4=list(range(1,26))\n",
    "from functools import reduce\n",
    "c=reduce(lambda x,y:x*y,l4)\n",
    "print(\"Product of the numbers from 1 to 25 is\",c)"
   ]
  },
  {
   "cell_type": "code",
   "execution_count": 63,
   "id": "42ee13e0-e198-4593-a50f-c61ee7f0f10e",
   "metadata": {},
   "outputs": [
    {
     "name": "stdout",
     "output_type": "stream",
     "text": [
      "Numbers divisible by 2 and 3 are [6, 60, 90, 120]\n"
     ]
    }
   ],
   "source": [
    "# ANSWER 5\n",
    "l5=[2,3,6,9,27,60,90,120,55,46]\n",
    "div=list(filter(lambda x: x%2==0 and x%3==0, l5))\n",
    "print(\"Numbers divisible by 2 and 3 are\",div)"
   ]
  },
  {
   "cell_type": "code",
   "execution_count": 64,
   "id": "132e8bb1-2dc4-47ef-ad5a-2d4a5c6284d0",
   "metadata": {},
   "outputs": [
    {
     "ename": "AttributeError",
     "evalue": "'str' object has no attribute 'reverse'",
     "output_type": "error",
     "traceback": [
      "\u001b[0;31m---------------------------------------------------------------------------\u001b[0m",
      "\u001b[0;31mAttributeError\u001b[0m                            Traceback (most recent call last)",
      "Cell \u001b[0;32mIn [64], line 3\u001b[0m\n\u001b[1;32m      1\u001b[0m \u001b[38;5;66;03m# ANSWER 6\u001b[39;00m\n\u001b[1;32m      2\u001b[0m l6\u001b[38;5;241m=\u001b[39m[\u001b[38;5;124m'\u001b[39m\u001b[38;5;124mpython\u001b[39m\u001b[38;5;124m'\u001b[39m,\u001b[38;5;124m'\u001b[39m\u001b[38;5;124mphp\u001b[39m\u001b[38;5;124m'\u001b[39m,\u001b[38;5;124m'\u001b[39m\u001b[38;5;124maba\u001b[39m\u001b[38;5;124m'\u001b[39m,\u001b[38;5;124m'\u001b[39m\u001b[38;5;124mradar\u001b[39m\u001b[38;5;124m'\u001b[39m,\u001b[38;5;124m'\u001b[39m\u001b[38;5;124mlevel\u001b[39m\u001b[38;5;124m'\u001b[39m]\n\u001b[0;32m----> 3\u001b[0m palindrome\u001b[38;5;241m=\u001b[39m\u001b[38;5;28;43mlist\u001b[39;49m\u001b[43m(\u001b[49m\u001b[38;5;28;43mfilter\u001b[39;49m\u001b[43m(\u001b[49m\u001b[38;5;28;43;01mlambda\u001b[39;49;00m\u001b[43m \u001b[49m\u001b[43mx\u001b[49m\u001b[43m:\u001b[49m\u001b[43m \u001b[49m\u001b[43mx\u001b[49m\u001b[38;5;241;43m==\u001b[39;49m\u001b[43mx\u001b[49m\u001b[38;5;241;43m.\u001b[39;49m\u001b[43mreverse\u001b[49m\u001b[43m(\u001b[49m\u001b[43m)\u001b[49m\u001b[43m,\u001b[49m\u001b[43ml6\u001b[49m\u001b[43m)\u001b[49m\u001b[43m)\u001b[49m\n\u001b[1;32m      4\u001b[0m \u001b[38;5;28mprint\u001b[39m(\u001b[38;5;124m\"\u001b[39m\u001b[38;5;124mPalindromes in given list are\u001b[39m\u001b[38;5;124m\"\u001b[39m,palindrome)\n",
      "Cell \u001b[0;32mIn [64], line 3\u001b[0m, in \u001b[0;36m<lambda>\u001b[0;34m(x)\u001b[0m\n\u001b[1;32m      1\u001b[0m \u001b[38;5;66;03m# ANSWER 6\u001b[39;00m\n\u001b[1;32m      2\u001b[0m l6\u001b[38;5;241m=\u001b[39m[\u001b[38;5;124m'\u001b[39m\u001b[38;5;124mpython\u001b[39m\u001b[38;5;124m'\u001b[39m,\u001b[38;5;124m'\u001b[39m\u001b[38;5;124mphp\u001b[39m\u001b[38;5;124m'\u001b[39m,\u001b[38;5;124m'\u001b[39m\u001b[38;5;124maba\u001b[39m\u001b[38;5;124m'\u001b[39m,\u001b[38;5;124m'\u001b[39m\u001b[38;5;124mradar\u001b[39m\u001b[38;5;124m'\u001b[39m,\u001b[38;5;124m'\u001b[39m\u001b[38;5;124mlevel\u001b[39m\u001b[38;5;124m'\u001b[39m]\n\u001b[0;32m----> 3\u001b[0m palindrome\u001b[38;5;241m=\u001b[39m\u001b[38;5;28mlist\u001b[39m(\u001b[38;5;28mfilter\u001b[39m(\u001b[38;5;28;01mlambda\u001b[39;00m x: x\u001b[38;5;241m==\u001b[39m\u001b[43mx\u001b[49m\u001b[38;5;241;43m.\u001b[39;49m\u001b[43mreverse\u001b[49m(),l6))\n\u001b[1;32m      4\u001b[0m \u001b[38;5;28mprint\u001b[39m(\u001b[38;5;124m\"\u001b[39m\u001b[38;5;124mPalindromes in given list are\u001b[39m\u001b[38;5;124m\"\u001b[39m,palindrome)\n",
      "\u001b[0;31mAttributeError\u001b[0m: 'str' object has no attribute 'reverse'"
     ]
    }
   ],
   "source": [
    "# ANSWER 6\n",
    "l6=['python','php','aba','radar','level']\n",
    "palindrome=list(filter(lambda x: x==x.reverse(),l6))\n",
    "print(\"Palindromes in given list are\",palindrome)"
   ]
  },
  {
   "cell_type": "code",
   "execution_count": null,
   "id": "024b41b7-db20-4760-9f31-11d0f8020a9e",
   "metadata": {},
   "outputs": [],
   "source": []
  }
 ],
 "metadata": {
  "kernelspec": {
   "display_name": "Python 3 (ipykernel)",
   "language": "python",
   "name": "python3"
  },
  "language_info": {
   "codemirror_mode": {
    "name": "ipython",
    "version": 3
   },
   "file_extension": ".py",
   "mimetype": "text/x-python",
   "name": "python",
   "nbconvert_exporter": "python",
   "pygments_lexer": "ipython3",
   "version": "3.10.6"
  }
 },
 "nbformat": 4,
 "nbformat_minor": 5
}
