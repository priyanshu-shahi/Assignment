{
 "cells": [
  {
   "cell_type": "code",
   "execution_count": 5,
   "id": "b70553ce-253f-463a-82bb-6478ac317cb5",
   "metadata": {},
   "outputs": [
    {
     "name": "stdout",
     "output_type": "stream",
     "text": [
      "Red\n"
     ]
    }
   ],
   "source": [
    "# ANSWER 1\n",
    "# In object-oriented programming (OOP) with Python:\n",
    "\n",
    "# Class: A class is a blueprint or a template that defines the structure and behavior of objects.\n",
    "# It serves as a model for creating objects. Classes encapsulate data (attributes) and functions (methods)\n",
    "# that operate on that data. For example, a \"Car\" class could define the attributes (color, model, etc.)\n",
    "# and methods (start, stop, accelerate, etc.) that cars should have.\n",
    "\n",
    "# Object: An object is an instance of a class. It is a concrete realization of the class blueprint, with its\n",
    "# own unique data and state. You can create multiple objects from the same class, each with its own set of\n",
    "# attribute values. For example, you could create two car objects, one representing a red sedan and another\n",
    "# representing a blue SUV, both instantiated from the same \"Car\" class.\n",
    "\n",
    "# Example-\n",
    "class colour_test:\n",
    "    def colour(self):\n",
    "        print(\"Red\")\n",
    "\n",
    "apple=colour_test()\n",
    "apple.colour()\n",
    "\n",
    "# Here colour_test is a class which has a function colour, apple is an object which is first typecasted to\n",
    "# colour_test datatype and then colour() present in the class is applied on the object apple."
   ]
  },
  {
   "cell_type": "code",
   "execution_count": 6,
   "id": "8136b0c0-583a-41f2-b63a-66b54f7b8cd5",
   "metadata": {},
   "outputs": [],
   "source": [
    "# ANSWER 2\n",
    "# The four pillars of Object-Oriented Programming (OOP) in Python are:\n",
    "\n",
    "#1.Encapsulation : Encapsulation is the concept of bundling data (attributes) and methods (functions) that\n",
    "#  operate on that data into a single unit called a class. It helps in hiding the internal details of an\n",
    "#  object and providing a clear interface for interacting with it.\n",
    "\n",
    "#2.Inheritance : Inheritance allows you to create a new class (subclass or derived class) that inherits\n",
    "#  attributes and methods from an existing class (base class or parent class). This promotes code reuse and\n",
    "#  the creation of a hierarchy of classes with shared characteristics.\n",
    "\n",
    "#3.Polymorphism : Polymorphism enables objects of different classes to be treated as objects of a common base\n",
    "#  class. It allows for flexibility in method implementation, where different classes can have their own\n",
    "#  implementations of methods with the same name. This concept is often achieved through method overriding\n",
    "#  and method overloading.\n",
    "\n",
    "#4.Abstraction : Abstraction is the process of simplifying complex systems by modeling classes based on their\n",
    "#  essential features, while hiding unnecessary details. It allows you to focus on what an object does rather\n",
    "#  than how it does it. Abstraction is often implemented through abstract classes and interfaces in Python."
   ]
  },
  {
   "cell_type": "code",
   "execution_count": 38,
   "id": "4f01eb2e-2a63-48e1-80d5-2cf27a793491",
   "metadata": {},
   "outputs": [
    {
     "data": {
      "text/plain": [
       "24.0"
      ]
     },
     "execution_count": 38,
     "metadata": {},
     "output_type": "execute_result"
    }
   ],
   "source": [
    "# ANSWER 3 \n",
    "# __init__() is used to pass data in the class fucntion\n",
    "# Example-\n",
    "class test2:\n",
    "    def __init__(self,Height,Weight):\n",
    "        self.Height=Height\n",
    "        self.Weight=Weight\n",
    "    def BMI(self):\n",
    "        return self.Weight//((self.Height)/100)**2\n",
    "Priyanshu=test2(175,76)\n",
    "Priyanshu.BMI()"
   ]
  },
  {
   "cell_type": "code",
   "execution_count": 39,
   "id": "c22095bc-aef2-4d88-81bd-cf14231206dd",
   "metadata": {},
   "outputs": [],
   "source": [
    "# ANSWER 4\n",
    "# In Python's object-oriented programming (OOP), \"self\" is a reference to the instance of a class itself.\n",
    "# It is used to access and modify the attributes and methods of that instance within the class's methods.\n",
    "# \"self\" is required to differentiate between instance-specific data and methods and class-level data and\n",
    "# methods, ensuring proper encapsulation and interaction within the class."
   ]
  },
  {
   "cell_type": "code",
   "execution_count": null,
   "id": "401a51be-6cc0-4581-be87-ca2c711e1fc0",
   "metadata": {},
   "outputs": [],
   "source": [
    "# ANSWER 5\n",
    "# Inheritance is a fundamental concept in object-oriented programming (OOP) that allows you to create a new\n",
    "# class (the derived or subclass) by inheriting attributes and methods from an existing class (the base or\n",
    "# parent class). It promotes code reuse and the creation of class hierarchies.\n",
    "\n",
    "# There are several types of inheritance, including:\n",
    "# 1.SingMultilevel Inheritance: Multilevel inheritance involves a chain of inheritance, where a class inherits from a class that, in turn, inherits from another class.\n",
    "\n",
    "le Inheritance: In single inheritance, a subclass inherits from a single parent class. This is the\n",
    "# simplest form of inheritance.\n",
    "# 2.Multiple Inheritance: In multiple inheritance, a subclass can inherit from more than one parent class.\n",
    "# This allows the subclass to inherit attributes and methods from multiple sources\n",
    "# 3."
   ]
  }
 ],
 "metadata": {
  "kernelspec": {
   "display_name": "Python 3 (ipykernel)",
   "language": "python",
   "name": "python3"
  },
  "language_info": {
   "codemirror_mode": {
    "name": "ipython",
    "version": 3
   },
   "file_extension": ".py",
   "mimetype": "text/x-python",
   "name": "python",
   "nbconvert_exporter": "python",
   "pygments_lexer": "ipython3",
   "version": "3.10.6"
  }
 },
 "nbformat": 4,
 "nbformat_minor": 5
}
