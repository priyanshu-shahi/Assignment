{
 "cells": [
  {
   "cell_type": "code",
   "execution_count": 2,
   "id": "a220c3f4-aef6-4efc-a959-a054243cbf78",
   "metadata": {},
   "outputs": [],
   "source": [
    "# ANSWER 1.\n",
    "# A database is a structured collection of data that is organized and stored electronically. It allows for efficient data storage, retrieval, and\n",
    "# manipulation.\n",
    "\n",
    "# SQL (Structured Query Language) databases:\n",
    "#  - SQL databases are relational databases.\n",
    "#  - Data is stored in tables with rows and columns, following a predefined schema.\n",
    "#  - They use SQL for querying and managing the data.\n",
    "#  - Examples include MySQL, PostgreSQL, and Oracle.\n",
    "\n",
    "# NoSQL (Not Only SQL) databases:\n",
    "#  - NoSQL databases are non-relational databases.\n",
    "#  - Data is stored in various formats like key-value pairs, document-oriented, column-oriented, or graph-based.\n",
    "#  - They are designed for scalability and flexibility, often sacrificing ACID (Atomicity, Consistency, Isolation, Durability) properties for\n",
    "#    performance.\n",
    "#  - Examples include MongoDB, Cassandra, and Redis."
   ]
  },
  {
   "cell_type": "code",
   "execution_count": 3,
   "id": "528197e4-9a1a-469d-85a8-8a81269f1257",
   "metadata": {},
   "outputs": [],
   "source": [
    "# ANSWER 2.\n",
    "# DDL stands for Data Definition Language. It is a subset of SQL (Structured Query Language) used to define and manage the structure of the database.\n",
    "\n",
    "# 1. CREATE: Used to create new database objects such as tables, indexes, views, etc.\n",
    "#    Example:\n",
    "#    CREATE TABLE Employees ( EmployeeID INT, LastName VARCHAR(255), FirstName VARCHAR(255) );\n",
    "\n",
    "# 2. DROP: Used to delete existing database objects.\n",
    "#    Example:\n",
    "#    DROP TABLE Employees;\n",
    "\n",
    "# 3. ALTER: Used to modify the structure of an existing database object.\n",
    "#    Example:\n",
    "#    ALTER TABLE Employees\n",
    "#    ADD COLUMN Age INT;\n",
    "\n",
    "# 4. TRUNCATE: Used to remove all records from a table, but keep the table structure intact.\n",
    "#    Example:\n",
    "#    TRUNCATE TABLE Employees;"
   ]
  },
  {
   "cell_type": "code",
   "execution_count": 4,
   "id": "45b6b469-95b6-48f4-b4ad-39cb7f3ad87b",
   "metadata": {},
   "outputs": [],
   "source": [
    "# ANSWER 3.\n",
    "# DML stands for Data Manipulation Language. It is a subset of SQL (Structured Query Language) used to manipulate the data within the database.\n",
    "\n",
    "# 1. INSERT: Used to add new records into a table.\n",
    "#    Example:\n",
    "#    INSERT INTO Employees (EmployeeID, LastName, FirstName)\n",
    "#    VALUES (1, 'Smith', 'John');\n",
    "\n",
    "# 2. UPDATE: Used to modify existing records in a table.\n",
    "#    Example:\n",
    "#    UPDATE Employees\n",
    "#    SET LastName = 'Doe'\n",
    "#    WHERE EmployeeID = 1;\n",
    "\n",
    "# 3. DELETE: Used to remove existing records from a table.\n",
    "#   Example:\n",
    "#   DELETE FROM Employees\n",
    "#   WHERE EmployeeID = 1;"
   ]
  },
  {
   "cell_type": "code",
   "execution_count": 5,
   "id": "97f427ec-e75d-4ad8-9732-dcae71f6a06e",
   "metadata": {},
   "outputs": [],
   "source": [
    "# ANSWER 4.\n",
    "# DQL stands for Data Query Language. It is a subset of SQL (Structured Query Language) used to retrieve data from the database.\n",
    "\n",
    "# SELECT: Used to retrieve data from one or more tables in the database.\n",
    "#         Example:\n",
    "#         SELECT FirstName, LastName\n",
    "#         FROM Employees\n",
    "#         WHERE Department = 'IT';"
   ]
  },
  {
   "cell_type": "code",
   "execution_count": 6,
   "id": "6caad068-28e2-4a27-8387-51fbc2e83e1d",
   "metadata": {},
   "outputs": [],
   "source": [
    "# ANSWER 5.\n",
    "# Primary Key:\n",
    "#  - A primary key is a column or set of columns that uniquely identifies each record in a table.\n",
    "#  - It ensures data integrity by enforcing uniqueness and providing a fast lookup mechanism.\n",
    "#  - Only one primary key can exist per table.\n",
    "#  - Example:\n",
    "#    CREATE TABLE Students ( StudentID INT PRIMARY KEY, Name VARCHAR(50), Age INT);\n",
    "\n",
    "# Foreign Key:\n",
    "#  - A foreign key is a column or set of columns that establishes a relationship between two tables.\n",
    "#  - It references the primary key of another table, linking the rows of the two tables together.\n",
    "#  - It enforces referential integrity, ensuring that the values in the foreign key column match values in the primary key column of the referenced\n",
    "#    table.\n",
    "#  - Example:\n",
    "#    CREATE TABLE Orders (OrderID INT PRIMARY KEY, ProductID INT, FOREIGN KEY (ProductID) REFERENCES Products(ProductID) );\n",
    "# In this example, the \"ProductID\" column in the \"Orders\" table is a foreign key that references the \"ProductID\" column in the \"Products\" table.\n",
    "# This establishes a relationship between the two tables, ensuring that orders can only reference existing products."
   ]
  },
  {
   "cell_type": "code",
   "execution_count": 10,
   "id": "68a53a3b-dcce-4b1e-b4aa-da5159d1ed40",
   "metadata": {},
   "outputs": [],
   "source": [
    "# ANSWER 6.\n",
    "# Python code to connect MySQL to python is:\n",
    "import mysql.connector\n",
    "mydb=mysql.connector.connect(\n",
    "    host=\"local host\",\n",
    "    user=\"abc\",\n",
    "    password=\"password\"\n",
    ")\n",
    "mycursor=mydb.cursor()\n",
    "mycursor.execute(\"CREATE DATABASE if not exists database_name\")\n",
    "mydb.close()\n",
    "\n",
    "# cursor() method -\n",
    "#  i) It creates a cursor object that allows you to execute SQL queries and fetch data from the database.\n",
    "#  ii) It acts as a handle for the database operations.\n",
    "#  iii) It's typically used to traverse the result set of a query.\n",
    "\n",
    "# execute() method -\n",
    "#  i) It is used to execute an SQL query.\n",
    "#  ii) It takes an SQL query as its argument and executes it.\n",
    "#  iii) It's often used in conjunction with the cursor object."
   ]
  },
  {
   "cell_type": "code",
   "execution_count": 9,
   "id": "ad43ac80-f4b6-49de-8eaa-28294bcaa37c",
   "metadata": {},
   "outputs": [],
   "source": [
    "# ANSWER 7.\n",
    "# In SQL, the order of execution of clauses in a query generally follows this sequence:\n",
    "#  1. FROM: Specifies the tables from which to retrieve data.\n",
    "#  2. WHERE: Filters rows based on specified conditions.\n",
    "#  3. GROUP BY: Groups rows that have the same values into summary rows.\n",
    "#  4. HAVING: Filters groups based on specified conditions.\n",
    "#  5. SELECT: Selects the columns to include in the result set.\n",
    "#  6. ORDER BY: Sorts the result set based on specified columns.\n",
    "#  7. LIMIT/OFFSET: Limits the number of rows returned or skips a specified number of rows."
   ]
  },
  {
   "cell_type": "code",
   "execution_count": null,
   "id": "61ab0333-f1b9-4478-b4f2-57c60cd5d76d",
   "metadata": {},
   "outputs": [],
   "source": []
  }
 ],
 "metadata": {
  "kernelspec": {
   "display_name": "Python 3 (ipykernel)",
   "language": "python",
   "name": "python3"
  },
  "language_info": {
   "codemirror_mode": {
    "name": "ipython",
    "version": 3
   },
   "file_extension": ".py",
   "mimetype": "text/x-python",
   "name": "python",
   "nbconvert_exporter": "python",
   "pygments_lexer": "ipython3",
   "version": "3.10.8"
  }
 },
 "nbformat": 4,
 "nbformat_minor": 5
}
