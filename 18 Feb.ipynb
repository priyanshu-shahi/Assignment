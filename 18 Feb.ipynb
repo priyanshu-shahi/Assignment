{
 "cells": [
  {
   "cell_type": "code",
   "execution_count": null,
   "id": "05f63f15-749c-4a8b-a119-5422e9d0ae71",
   "metadata": {},
   "outputs": [],
   "source": [
    "# ANSWER 1.\n",
    "# API stands for Application Programming Interface. It's a set of rules and protocols that allows different software\n",
    "# applications to communicate with each other. An example of API usage in real life is when you use a weather app on your\n",
    "# smartphone. The app sends a request to a weather data provider's API, which then sends back the requested weather\n",
    "# information to the app for display."
   ]
  },
  {
   "cell_type": "code",
   "execution_count": 2,
   "id": "3d687c85-fdbe-483c-8e16-e7376e002d0d",
   "metadata": {},
   "outputs": [],
   "source": [
    "# ANSWER 2.\n",
    "# Advantages:\n",
    "#   i. Encourages modularity and reusability in software development.\n",
    "#   ii. Facilitates integration between different systems and services.\n",
    "#   iii. Promotes collaboration among developers and teams.\n",
    "# Disadvantages:\n",
    "#   iv. APIs can change over time, leading to compatibility issues with older versions.\n",
    "#   v. Dependency on external APIs can pose risks if the service becomes unavailable or deprecated.\n",
    "#   vi. Security vulnerabilities can arise if APIs are not properly secured."
   ]
  },
  {
   "cell_type": "code",
   "execution_count": 3,
   "id": "584f1da2-f1c9-4df0-977f-46e8723ee054",
   "metadata": {},
   "outputs": [],
   "source": [
    "# ANSWER 3.\n",
    "# A Web API is an API specifically designed for communication over the web using HTTP protocols. It enables interaction\n",
    "# between various web-based systems and services. The main difference between API and Web API is that API is a broader\n",
    "# term referring to any set of rules that allow different software applications to communicate, while Web API specifically\n",
    "# refers to APIs designed for web-based communication."
   ]
  },
  {
   "cell_type": "code",
   "execution_count": 4,
   "id": "bc1ea00b-9934-45e9-92bf-aed04c6f42ea",
   "metadata": {},
   "outputs": [],
   "source": [
    "# ANSWER 4.\n",
    "# REST (Representational State Transfer) is an architectural style for designing networked applications. It typically uses\n",
    "# HTTP protocols for communication and relies on stateless communication between client and server.\n",
    "\n",
    "# SOAP (Simple Object Access Protocol) is a protocol for exchanging structured information in the implementation of web\n",
    "# services. It's a more rigid and formal protocol compared to REST, often using XML for message formatting.\n",
    "# Shortcomings of SOAP:\n",
    "#   i. Complex and verbose XML structure makes it less efficient in terms of bandwidth and processing.\n",
    "#   ii. Requires more overhead due to its strict messaging format.\n",
    "#   iii. Less flexibility compared to REST, especially in handling different data formats."
   ]
  },
  {
   "cell_type": "code",
   "execution_count": null,
   "id": "6ef02199-966c-420c-b877-ac9200b068d1",
   "metadata": {},
   "outputs": [],
   "source": [
    "# ANSWER 5.\n",
    "# REST:\n",
    "#  i. Uses lightweight data formats such as JSON.\n",
    "#  ii. Stateless communication.\n",
    "#  iii. Utilizes standard HTTP methods (GET, POST, PUT, DELETE).\n",
    "#  iv. Provides better performance and scalability.\n",
    "# SOAP:\n",
    "#  i. Uses XML for message formatting.\n",
    "#  ii. Supports stateful communication.\n",
    "#  iii. Defines its own set of standards for communication.\n",
    "#  iv. More rigid and complex compared to REST"
   ]
  }
 ],
 "metadata": {
  "kernelspec": {
   "display_name": "Python 3 (ipykernel)",
   "language": "python",
   "name": "python3"
  },
  "language_info": {
   "codemirror_mode": {
    "name": "ipython",
    "version": 3
   },
   "file_extension": ".py",
   "mimetype": "text/x-python",
   "name": "python",
   "nbconvert_exporter": "python",
   "pygments_lexer": "ipython3",
   "version": "3.10.8"
  }
 },
 "nbformat": 4,
 "nbformat_minor": 5
}
