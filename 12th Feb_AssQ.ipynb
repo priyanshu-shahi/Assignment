{
 "cells": [
  {
   "cell_type": "code",
   "execution_count": 1,
   "id": "78273a58-b584-4743-b66c-a5caf5f9c42d",
   "metadata": {},
   "outputs": [],
   "source": [
    "# ANSWER 1.\n",
    "# Exceptions are runtime errors that occur during the execution of a Python program.\n",
    "# Exceptions are runtime errors that can be handled, while syntax errors are mistakes in the code's structure that prevent the\n",
    "# program from running in the first place."
   ]
  },
  {
   "cell_type": "code",
   "execution_count": 9,
   "id": "83113387-f770-41bc-8210-de8bf9913e0f",
   "metadata": {},
   "outputs": [
    {
     "ename": "TypeError",
     "evalue": "'float' object cannot be interpreted as an integer",
     "output_type": "error",
     "traceback": [
      "\u001b[0;31m---------------------------------------------------------------------------\u001b[0m",
      "\u001b[0;31mTypeError\u001b[0m                                 Traceback (most recent call last)",
      "Cell \u001b[0;32mIn [9], line 5\u001b[0m\n\u001b[1;32m      1\u001b[0m \u001b[38;5;66;03m# ANSWER 2.\u001b[39;00m\n\u001b[1;32m      2\u001b[0m \u001b[38;5;66;03m# When an exception is not handled in Python, it causes your program to terminate and displays an error message and stop program\u001b[39;00m\n\u001b[1;32m      3\u001b[0m \u001b[38;5;66;03m# execution.\u001b[39;00m\n\u001b[1;32m      4\u001b[0m l\u001b[38;5;241m=\u001b[39m\u001b[38;5;241m22\u001b[39m\u001b[38;5;241m/\u001b[39m\u001b[38;5;241m7\u001b[39m\n\u001b[0;32m----> 5\u001b[0m \u001b[38;5;28;01mfor\u001b[39;00m i \u001b[38;5;129;01min\u001b[39;00m \u001b[38;5;28;43mrange\u001b[39;49m\u001b[43m \u001b[49m\u001b[43m(\u001b[49m\u001b[43ml\u001b[49m\u001b[43m)\u001b[49m:\n\u001b[1;32m      6\u001b[0m     \u001b[38;5;28mprint\u001b[39m(i)\n",
      "\u001b[0;31mTypeError\u001b[0m: 'float' object cannot be interpreted as an integer"
     ]
    }
   ],
   "source": [
    "# ANSWER 2.\n",
    "# When an exception is not handled in Python, it causes your program to terminate and displays an error message and stop program\n",
    "# execution.\n",
    "l=22/7\n",
    "for i in range (l):\n",
    "    print(i)"
   ]
  },
  {
   "cell_type": "code",
   "execution_count": 10,
   "id": "afdd4330-7c5f-4f58-85d0-fa2bab9e4795",
   "metadata": {},
   "outputs": [],
   "source": [
    "# ANSWER 3.\n",
    "# In python statements used to catch and handle exceptions are-\n",
    "# i. try and except\n",
    "# ii. try,except and else\n",
    "# iii. try and finally"
   ]
  },
  {
   "cell_type": "code",
   "execution_count": 27,
   "id": "72f48198-0d0e-49ef-9e59-ef9b360ec596",
   "metadata": {},
   "outputs": [
    {
     "name": "stdout",
     "output_type": "stream",
     "text": [
      "[0, 1, 2]\n"
     ]
    }
   ],
   "source": [
    "# Answer 4.\n",
    "# a. try and else\n",
    "try:\n",
    "    l=22//7\n",
    "    l1=[]\n",
    "    for i in range(l):\n",
    "        l1.append(i)\n",
    "except Exception as e:\n",
    "    print('Length for the loop is not an integer')\n",
    "else:\n",
    "    print(l1)"
   ]
  },
  {
   "cell_type": "code",
   "execution_count": 28,
   "id": "e40b74e5-ef5e-491c-b46b-bcac1f416280",
   "metadata": {},
   "outputs": [
    {
     "name": "stdout",
     "output_type": "stream",
     "text": [
      "[0, 1, 2]\n"
     ]
    },
    {
     "ename": "TypeError",
     "evalue": "'float' object cannot be interpreted as an integer",
     "output_type": "error",
     "traceback": [
      "\u001b[0;31m---------------------------------------------------------------------------\u001b[0m",
      "\u001b[0;31mTypeError\u001b[0m                                 Traceback (most recent call last)",
      "Cell \u001b[0;32mIn [28], line 5\u001b[0m\n\u001b[1;32m      3\u001b[0m     l\u001b[38;5;241m=\u001b[39m\u001b[38;5;241m22\u001b[39m\u001b[38;5;241m/\u001b[39m\u001b[38;5;241m7\u001b[39m\n\u001b[1;32m      4\u001b[0m     m1\u001b[38;5;241m=\u001b[39m[]\n\u001b[0;32m----> 5\u001b[0m     \u001b[38;5;28;01mfor\u001b[39;00m i \u001b[38;5;129;01min\u001b[39;00m \u001b[38;5;28;43mrange\u001b[39;49m\u001b[43m \u001b[49m\u001b[43m(\u001b[49m\u001b[43ml\u001b[49m\u001b[43m)\u001b[49m:\n\u001b[1;32m      6\u001b[0m         m1\u001b[38;5;241m.\u001b[39mappend(i)\n\u001b[1;32m      7\u001b[0m \u001b[38;5;28;01mfinally\u001b[39;00m:\n",
      "\u001b[0;31mTypeError\u001b[0m: 'float' object cannot be interpreted as an integer"
     ]
    }
   ],
   "source": [
    "# b. finally\n",
    "try:\n",
    "    l=22/7\n",
    "    m1=[]\n",
    "    for i in range (l):\n",
    "        m1.append(i)\n",
    "finally:\n",
    "    print (l1)"
   ]
  },
  {
   "cell_type": "code",
   "execution_count": 29,
   "id": "58dee4aa-c152-483a-a090-111cff0c31e2",
   "metadata": {},
   "outputs": [
    {
     "name": "stdin",
     "output_type": "stream",
     "text": [
      "Enter number 97\n"
     ]
    },
    {
     "name": "stdout",
     "output_type": "stream",
     "text": [
      "number is not even\n"
     ]
    }
   ],
   "source": [
    "# c. raise\n",
    "class check_even(Exception):\n",
    "    def __init__(self,msg):\n",
    "        self.msg=msg\n",
    "def check_evenfx(n):\n",
    "    if n%2==0:\n",
    "        raise check_even(\"number is even\")\n",
    "    else:\n",
    "        raise check_even(\"number is not even\")\n",
    "try:\n",
    "    n=int((input('Enter number')))\n",
    "    check_evenfx(n)\n",
    "except check_even as e:\n",
    "    print (e)"
   ]
  },
  {
   "cell_type": "code",
   "execution_count": 38,
   "id": "65f4e433-c976-4bbc-8ac9-38a0b0b2c3c6",
   "metadata": {},
   "outputs": [
    {
     "name": "stdin",
     "output_type": "stream",
     "text": [
      "enter the number -9\n"
     ]
    },
    {
     "name": "stdout",
     "output_type": "stream",
     "text": [
      "number entered is negative hence its cube is returned 81\n"
     ]
    }
   ],
   "source": [
    "# ANSWER 5\n",
    "# Custom exceptions in Python are user-defined exception classes that allow you to create specific error\n",
    "# conditions for your application. We need custom exceptions to handle application-specific errors in a more\n",
    "# meaningful and organized way.\n",
    "class custom_exception(Exception):\n",
    "    def __init__(self,msg):\n",
    "        self.msg=msg\n",
    "def positive_number_yielder(n):\n",
    "    if n<0:\n",
    "        raise custom_exception(\"number entered is negative hence its square is returned\"+strn**2))\n",
    "try:\n",
    "    n=int(input(\"enter the number\"))\n",
    "    if n>=0:\n",
    "        print(n**3)\n",
    "    positive_number_yielder(n)\n",
    "except custom_exception as e:\n",
    "    print (e)\n",
    "    \n",
    "    "
   ]
  },
  {
   "cell_type": "code",
   "execution_count": 2,
   "id": "4ac53a96-993f-4afc-8a30-b7508bbaed86",
   "metadata": {},
   "outputs": [
    {
     "name": "stdin",
     "output_type": "stream",
     "text": [
      "Enter the number -9\n"
     ]
    },
    {
     "name": "stdout",
     "output_type": "stream",
     "text": [
      "It is not a natural number\n"
     ]
    }
   ],
   "source": [
    "# ANSWER 6\n",
    "class check_natural(Exception):\n",
    "    def __init__(self,msg):\n",
    "        self.msg=msg\n",
    "def check_naturalfx(n):\n",
    "    if n >0:\n",
    "        raise check_natural('It is a natural number')\n",
    "    else:\n",
    "        raise check_natural('It is not a natural number')\n",
    "try:\n",
    "    number=int(input(\"Enter the number\"))\n",
    "    check_naturalfx(number)\n",
    "except check_natural as e:\n",
    "    print(e)\n"
   ]
  },
  {
   "cell_type": "code",
   "execution_count": null,
   "id": "4028bdbb-d018-4cce-bcfd-24b90b233d15",
   "metadata": {},
   "outputs": [],
   "source": []
  }
 ],
 "metadata": {
  "kernelspec": {
   "display_name": "Python 3 (ipykernel)",
   "language": "python",
   "name": "python3"
  },
  "language_info": {
   "codemirror_mode": {
    "name": "ipython",
    "version": 3
   },
   "file_extension": ".py",
   "mimetype": "text/x-python",
   "name": "python",
   "nbconvert_exporter": "python",
   "pygments_lexer": "ipython3",
   "version": "3.10.6"
  }
 },
 "nbformat": 4,
 "nbformat_minor": 5
}
