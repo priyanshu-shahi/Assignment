{
 "cells": [
  {
   "cell_type": "code",
   "execution_count": 1,
   "id": "601e4279-2f03-428e-b29a-a5838aea3edd",
   "metadata": {},
   "outputs": [],
   "source": [
    "# ANSWER 1.\n",
    "# The open() function is used to open a file in python.\n",
    "\n",
    "# A file can be opened in two ways:\n",
    "# i. with open(\"file_name.txt\",\"mode\") as Variable_name:\n",
    "# ii. variable_name= open(\"File_name.txt\",\"mode\")\n",
    "\n",
    "# Different modes of opening a file are:\n",
    "# i. Write mode\n",
    "# ii. Read mode\n",
    "# iii. Append mode\n",
    "# iv. Binary read mode\n",
    "# v. Binary write mode\n",
    "\n",
    "# Write mode - In this mode the file is given the data and is  truncated every time the execution is done i.e previous data is\n",
    "# override by the new data.\n",
    "# Read mode - In this mode the data in a file can be read as output.\n",
    "# Append mode - In this mode also the file is fed by the data but instead of overriding thhe previous data new data is appended\n",
    "# in it.\n",
    "# Binary read and write mode - These both modes are similar as read and write mode just the difference is that here the given \n",
    "# data is given in bytes form."
   ]
  },
  {
   "cell_type": "code",
   "execution_count": 2,
   "id": "61ddbd84-902f-4008-8bab-73185ad901a1",
   "metadata": {},
   "outputs": [],
   "source": [
    "# ANSWER 2.\n",
    "# In Python, the close() function is used to close files that have been opened using the open() function. It is important to\n",
    "# close file for resource Management and data integrity"
   ]
  },
  {
   "cell_type": "code",
   "execution_count": 9,
   "id": "3dc2163a-13d7-4ce9-9d16-9c607accc000",
   "metadata": {},
   "outputs": [
    {
     "name": "stdout",
     "output_type": "stream",
     "text": [
      "I want to become a Data Scientist\n"
     ]
    }
   ],
   "source": [
    "# ANSWER 3.\n",
    "with open(\"AssQ.txt\",'w') as f:\n",
    "    f.write('I want to become a Data Scientist')\n",
    "    f.close()\n",
    "with open(\"AssQ.txt\",'r') as f:\n",
    "    reading=f.read()\n",
    "    print(reading)"
   ]
  },
  {
   "cell_type": "code",
   "execution_count": 10,
   "id": "64c07b99-5ed8-497d-87cc-be6e63d3240b",
   "metadata": {},
   "outputs": [],
   "source": [
    "# ANSWER 4.\n",
    "# read() : This method reads the entire content of a file and returns it as a single string. If you don't specify the number \n",
    "# of bytes to read, it reads the entire file.\n",
    "\n",
    "# readline() : This method reads a single line from the file and returns it as a string. It moves the file's cursor to the next\n",
    "# line for the next `readline()` call.\n",
    "\n",
    "# readlines() : This method reads all the lines in a file and returns them as a list of strings. Each element in the list\n",
    "# represents a line from the file."
   ]
  },
  {
   "cell_type": "code",
   "execution_count": 11,
   "id": "ad102470-9a03-4204-af83-b2327d0fe6af",
   "metadata": {},
   "outputs": [],
   "source": [
    "# ANSWER 5.\n",
    "# While using with statement,the file is automatically closed when you exit the with block, ensuring that you don't forget to\n",
    "# close the file.\n",
    "# Using the with statement promotes cleaner and more reliable code by handling the opening and closing of files automatically."
   ]
  },
  {
   "cell_type": "code",
   "execution_count": null,
   "id": "49f6af06-2cfd-4126-a197-b0fdd9436d61",
   "metadata": {},
   "outputs": [],
   "source": [
    "# ANSWER 6.\n",
    "# In Python, `write()` and `writelines()` are methods used to write data to a file.\n",
    "# write() :\n",
    "#  - It takes a single argument, which is the string or bytes you want to write to the file.\n",
    "#  - It writes the data at the current position of the file pointer and advances the pointer to the end of the written data.\n",
    "#  - If the file doesn't exist, it creates the file. If the file exists, it overwrites the existing content.\n",
    "# Example :\n",
    "with open('file.txt', 'w') as f:\n",
    "       f.write('Hello World')\n",
    "\n",
    "# writelines():\n",
    "# - `writelines()` is used to write a sequence of strings to a file.\n",
    "# - It takes an iterable (e.g., a list or tuple) of strings as an argument and writes each string to the file without adding any separators or newlines.\n",
    "# - It doesn't automatically add line breaks between the lines, so you need to include them if you want newlines.\n",
    "# Example :\n",
    "   ```python\n",
    "   lines = ['Line 1', 'Line 2', 'Line 3']\n",
    "   with open('file.txt', 'w') as file:\n",
    "       file.writelines(lines)\n",
    "   ```\n",
    "\n",
    "To add line breaks when using `writelines()`, you can modify the data before writing it to the file, like this:\n",
    "\n",
    "```python\n",
    "lines = ['Line 1\\n', 'Line 2\\n', 'Line 3\\n']\n",
    "with open('file.txt', 'w') as file:\n",
    "    file.writelines(lines)\n",
    "```\n",
    "\n",
    "Remember that `write()` is suitable for writing individual strings or data, while `writelines()` is useful when you have a list of strings to write to a file without adding any separators.\n"
   ]
  }
 ],
 "metadata": {
  "kernelspec": {
   "display_name": "Python 3 (ipykernel)",
   "language": "python",
   "name": "python3"
  },
  "language_info": {
   "codemirror_mode": {
    "name": "ipython",
    "version": 3
   },
   "file_extension": ".py",
   "mimetype": "text/x-python",
   "name": "python",
   "nbconvert_exporter": "python",
   "pygments_lexer": "ipython3",
   "version": "3.10.6"
  }
 },
 "nbformat": 4,
 "nbformat_minor": 5
}
