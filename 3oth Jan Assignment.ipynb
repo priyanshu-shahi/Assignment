{
 "cells": [
  {
   "cell_type": "code",
   "execution_count": 1,
   "id": "76dbb478-a128-408a-9bfd-b6ab03b5738f",
   "metadata": {},
   "outputs": [],
   "source": [
    "#1 Program to accept percentage from the user and display the grade according to the given criteria"
   ]
  },
  {
   "cell_type": "code",
   "execution_count": 15,
   "id": "cf130c52-fd15-4454-90e5-0691cd13ff18",
   "metadata": {},
   "outputs": [
    {
     "name": "stdin",
     "output_type": "stream",
     "text": [
      "Enter the Marks obtained 55\n"
     ]
    },
    {
     "name": "stdout",
     "output_type": "stream",
     "text": [
      "Grade D\n"
     ]
    }
   ],
   "source": [
    "Marks=float(input(\"Enter the Marks obtained\"))\n",
    "if Marks>90 :\n",
    "    print(\"Grade A\")\n",
    "elif Marks>80 and Marks<=90 :\n",
    "    print(\"Grade B\")\n",
    "elif Marks>=60 and Marks<=80 :\n",
    "    print(\"Grade C\")\n",
    "else :\n",
    "    print(\"Grade D\")"
   ]
  },
  {
   "cell_type": "code",
   "execution_count": 16,
   "id": "bb525808-900a-4161-b00b-c20facf311f4",
   "metadata": {},
   "outputs": [],
   "source": [
    "#2 Program to accept the cost price of a bike and display the road tax to be paid according to the given criteria"
   ]
  },
  {
   "cell_type": "code",
   "execution_count": 24,
   "id": "83ed0030-7d12-4a3e-8b69-49e30c02c207",
   "metadata": {},
   "outputs": [
    {
     "name": "stdin",
     "output_type": "stream",
     "text": [
      "Enter the Cost price the bike- Rs. 65000\n"
     ]
    },
    {
     "name": "stdout",
     "output_type": "stream",
     "text": [
      "Tax to be paid on the Cost price of Rs. 65000.0 is\n",
      "Rs. 6500.0\n"
     ]
    }
   ],
   "source": [
    "Cost_price=float(input(\"Enter the Cost price the bike- Rs.\"))\n",
    "print(\"Tax to be paid on the Cost price of Rs.\",Cost_price,\"is\")\n",
    "if Cost_price>100000 :\n",
    "    k=0.15*Cost_price\n",
    "    print(\"Rs.\",k)\n",
    "elif Cost_price>50000 and Cost_price<=100000 :\n",
    "    k=0.1*Cost_price\n",
    "    print(\"Rs.\",k)\n",
    "else :\n",
    "    k=0.05*Cost_price\n",
    "    print(\"Rs.\",k)"
   ]
  },
  {
   "cell_type": "code",
   "execution_count": 22,
   "id": "154b7e1f-0f97-49af-a1a2-700e5f750ed2",
   "metadata": {},
   "outputs": [],
   "source": [
    "#3 Program to accept any city name from the user and display monuments of that city"
   ]
  },
  {
   "cell_type": "code",
   "execution_count": 1,
   "id": "6a72c372-7579-4587-b62f-82aa61a0131b",
   "metadata": {},
   "outputs": [
    {
     "name": "stdin",
     "output_type": "stream",
     "text": [
      "Enter the City name- Agra\n"
     ]
    },
    {
     "name": "stdout",
     "output_type": "stream",
     "text": [
      "A Monument in Agra is Taj Mahal\n"
     ]
    }
   ],
   "source": [
    "City_name=input('Enter the City name-')\n",
    "if City_name =='Delhi' :\n",
    "    print('A Monument in',City_name,'is Red Fort')\n",
    "elif City_name == 'Agra' :\n",
    "    print('A Monument in',City_name,'is Taj Mahal')\n",
    "elif City_name == 'Jaipur' :\n",
    "    print('A Monument in',City_name,'is Jal Mahal')"
   ]
  },
  {
   "cell_type": "code",
   "execution_count": 2,
   "id": "2e63fc89-517c-4e6c-9e50-b4654a285424",
   "metadata": {},
   "outputs": [],
   "source": [
    "#4 Program to check how many times a given number can be divided by 3 before it is less than or equal to 10"
   ]
  },
  {
   "cell_type": "code",
   "execution_count": null,
   "id": "651ce058-aff1-4e71-b2b0-0e94ed06fbc7",
   "metadata": {},
   "outputs": [],
   "source": [
    "Number=float(input('Enter the number'))\n",
    "count=0\n",
    "quotient=0\n",
    "if Number % 3 == 0 :\n",
    "    while Number > 2 :\n",
    "        quotient = Number/3\n",
    "        if quotient>10 :\n",
    "            Number=quotient\n",
    "            count=count+1\n",
    "    print (count)\n",
    "else :\n",
    "     print(\"Number not divisible by 3\")      "
   ]
  },
  {
   "cell_type": "code",
   "execution_count": null,
   "id": "01558824-5e3d-46a3-b24d-63827e438d69",
   "metadata": {},
   "outputs": [],
   "source": [
    "#5 Python while loop is used to run a block code until a certain condition is met.\n",
    "#The syntax of while loop is:\n",
    "while condition:\n",
    "# body of while loop\n",
    "#Here,A while loop evaluates the conditionIf the condition evaluates to True, the code inside the while loop is executed.condition is evaluated again.This process continues until the condition is False.When condition evaluates to False, the loop stops.\n",
    "\n"
   ]
  },
  {
   "cell_type": "code",
   "execution_count": 2,
   "id": "5b5c25be-b525-47e7-894f-911567842f35",
   "metadata": {},
   "outputs": [],
   "source": [
    "#6 Program with nested while loop to print three patterns"
   ]
  },
  {
   "cell_type": "code",
   "execution_count": 3,
   "id": "e02ea9df-a92e-41a1-92d2-b838483ee449",
   "metadata": {},
   "outputs": [],
   "source": [
    "#a."
   ]
  },
  {
   "cell_type": "code",
   "execution_count": 4,
   "id": "878c6144-0d8e-4ecf-a239-d4fe35f306f0",
   "metadata": {},
   "outputs": [
    {
     "name": "stdout",
     "output_type": "stream",
     "text": [
      "*****\n",
      "****\n",
      "***\n",
      "**\n",
      "*\n"
     ]
    }
   ],
   "source": [
    "i=5\n",
    "while i>0 :\n",
    "    print('*'*i)\n",
    "    i=i-1"
   ]
  },
  {
   "cell_type": "code",
   "execution_count": 5,
   "id": "b4444cc9-50a0-4a15-9ea0-465f5be1aa9d",
   "metadata": {},
   "outputs": [],
   "source": [
    "#b."
   ]
  },
  {
   "cell_type": "code",
   "execution_count": 18,
   "id": "706ac6d0-6b7a-49c6-8ede-4c3aff3ea4f6",
   "metadata": {},
   "outputs": [
    {
     "name": "stdout",
     "output_type": "stream",
     "text": [
      " ***** \n",
      "  ***  \n",
      "   *   \n"
     ]
    }
   ],
   "source": [
    "i=5\n",
    "j=0\n",
    "while i>0 :\n",
    "    while j<3 :\n",
    "        print(' '*j,'*'*i,' '*j)\n",
    "        i=i-2\n",
    "        j=j+1"
   ]
  },
  {
   "cell_type": "code",
   "execution_count": null,
   "id": "e035ce51-81de-4c0a-879c-a8d6f4a1d741",
   "metadata": {},
   "outputs": [],
   "source": [
    "#c."
   ]
  },
  {
   "cell_type": "code",
   "execution_count": 13,
   "id": "c8f3243c-1775-4c26-b68b-180df60dbb14",
   "metadata": {},
   "outputs": [
    {
     "name": "stdout",
     "output_type": "stream",
     "text": [
      "   *   \n",
      "  ***  \n",
      " ***** \n"
     ]
    }
   ],
   "source": [
    "i=1\n",
    "j=2\n",
    "while i<6 :\n",
    "    while j>=0 :\n",
    "        print(' '*j,'*'*i,' '*j)\n",
    "        i=i+2\n",
    "        j=j-1"
   ]
  },
  {
   "cell_type": "code",
   "execution_count": 19,
   "id": "6d91e098-d06d-4e2f-9ba9-99ec2f71dff1",
   "metadata": {},
   "outputs": [],
   "source": [
    "#7 Reverse a while loop to display numbers from 10 to 1"
   ]
  },
  {
   "cell_type": "code",
   "execution_count": 20,
   "id": "388c1c34-378f-4cc9-9e0d-76e68ab5f85f",
   "metadata": {},
   "outputs": [
    {
     "name": "stdout",
     "output_type": "stream",
     "text": [
      "10\n",
      "9\n",
      "8\n",
      "7\n",
      "6\n",
      "5\n",
      "4\n",
      "3\n",
      "2\n",
      "1\n"
     ]
    }
   ],
   "source": [
    "i=10\n",
    "while i>0 :\n",
    "    print(i)\n",
    "    i=i-1\n",
    "    "
   ]
  },
  {
   "cell_type": "code",
   "execution_count": null,
   "id": "98007511-5afd-4334-99ff-4f116a5b1b7a",
   "metadata": {},
   "outputs": [],
   "source": []
  }
 ],
 "metadata": {
  "kernelspec": {
   "display_name": "Python 3 (ipykernel)",
   "language": "python",
   "name": "python3"
  },
  "language_info": {
   "codemirror_mode": {
    "name": "ipython",
    "version": 3
   },
   "file_extension": ".py",
   "mimetype": "text/x-python",
   "name": "python",
   "nbconvert_exporter": "python",
   "pygments_lexer": "ipython3",
   "version": "3.10.6"
  }
 },
 "nbformat": 4,
 "nbformat_minor": 5
}
