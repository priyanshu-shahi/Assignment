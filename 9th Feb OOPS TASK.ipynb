{
 "cells": [
  {
   "cell_type": "code",
   "execution_count": 10,
   "id": "6aa9038f-c28e-4fe7-a7b2-60f102317b18",
   "metadata": {},
   "outputs": [],
   "source": [
    "# ANSWER 1\n",
    "class vehicle:\n",
    "    def __init__(self,name_of_vehicle,max_speed,average_of_vehicle):\n",
    "        self.name_of_vehicle=name_of_vehicle\n",
    "        self.max_speed=max_speed\n",
    "        self.average_of_vehicle=average_of_vehicle"
   ]
  },
  {
   "cell_type": "code",
   "execution_count": 11,
   "id": "1e5bf225-0a81-453d-a1d4-a61a5160a5c7",
   "metadata": {},
   "outputs": [
    {
     "data": {
      "text/plain": [
       "('Tata Safari', '7 seater')"
      ]
     },
     "execution_count": 11,
     "metadata": {},
     "output_type": "execute_result"
    }
   ],
   "source": [
    "# ANSWER 2\n",
    "class car(vehicle):\n",
    "    def seating_capacity(self,capacity):\n",
    "        self.capacity=capacity\n",
    "        return self.name_of_vehicle,self.capacity\n",
    "\n",
    "car_obj=car('Tata Safari','210 kmph','20 kmpl')\n",
    "car_obj.seating_capacity('7 seater')"
   ]
  },
  {
   "cell_type": "code",
   "execution_count": 109,
   "id": "8b9167fe-4923-42b3-a0cf-a5ff8d574d6a",
   "metadata": {},
   "outputs": [],
   "source": [
    "# ANSWER 3\n",
    "# In multiple inheritance two classes let class 1 and class 2 are inherited by a third class, class 3.\n",
    "# Example-\n",
    "class sqr:\n",
    "    def square(self):\n",
    "        return self.n**2\n",
    "class cb:\n",
    "    def cube(self):\n",
    "        return self.n**3\n",
    "class operations(sqr,cb):\n",
    "    def __init__(self,n):\n",
    "        self.n=n\n",
    "    def number(self):\n",
    "        return self.n\n",
    "num=operations(4)"
   ]
  },
  {
   "cell_type": "code",
   "execution_count": 110,
   "id": "382c3bdd-76e8-47c8-ad0a-e06b8f9e2bb8",
   "metadata": {},
   "outputs": [
    {
     "data": {
      "text/plain": [
       "16"
      ]
     },
     "execution_count": 110,
     "metadata": {},
     "output_type": "execute_result"
    }
   ],
   "source": [
    "num.square()"
   ]
  },
  {
   "cell_type": "code",
   "execution_count": 111,
   "id": "87ee790a-52e9-4b8f-a48e-642b516ef834",
   "metadata": {},
   "outputs": [
    {
     "data": {
      "text/plain": [
       "64"
      ]
     },
     "execution_count": 111,
     "metadata": {},
     "output_type": "execute_result"
    }
   ],
   "source": [
    "num.cube()"
   ]
  },
  {
   "cell_type": "code",
   "execution_count": 15,
   "id": "eb46b1cd-2a7b-46d9-9b92-c9b46e0f58d7",
   "metadata": {},
   "outputs": [
    {
     "data": {
      "text/plain": [
       "19"
      ]
     },
     "execution_count": 15,
     "metadata": {},
     "output_type": "execute_result"
    }
   ],
   "source": [
    "# ANSWER 4\n",
    "# In Python, getters and setters are methods used to control access to the attributes of an object. They are commonly used\n",
    "# in object-oriented programming to enforce encapsulation and provide a way to manage the internal state of an object.\n",
    "# Getter methods retrieve the value of an attribute, and setter methods set or modify the value of an attribute. This helps\n",
    "# in controlling access to the internal state of an object and allows for validation or modification logic to be applied.\n",
    "# Example-\n",
    "class election:\n",
    "    def __init__(self,name,age):\n",
    "        self.__name=name\n",
    "        self.__age=0\n",
    "    def setter_age(self,age):\n",
    "        self.age=age if age>=18 else 0\n",
    "    def getter_age(self):\n",
    "        return self.age\n",
    "    \n",
    "voter=election('Sam dev',19)\n",
    "voter.setter_age(19)\n",
    "voter.getter_age()"
   ]
  },
  {
   "cell_type": "code",
   "execution_count": 19,
   "id": "7583095c-de2d-4cb7-8e99-0a62f4c17397",
   "metadata": {},
   "outputs": [
    {
     "data": {
      "text/plain": [
       "'red'"
      ]
     },
     "execution_count": 19,
     "metadata": {},
     "output_type": "execute_result"
    }
   ],
   "source": [
    "# ANSWER 5\n",
    "# Method overriding in Python refers to the ability of a subclass to provide a specific implementation for a method that is\n",
    "# already defined in its superclass. When a subclass defines a method with the same name, parameters, and return type as a\n",
    "# method in its superclass, it is said to override that method. This allows the subclass to provide its own implementation\n",
    "# of the method, which will be used when the method is called on an instance of the subclass.\n",
    "# Example-\n",
    "class apple:\n",
    "    def colour(self):\n",
    "        return \"red\"\n",
    "class guava(apple):\n",
    "    def colour(self):\n",
    "        return 'green'\n",
    "class banana(guava):\n",
    "    def colour(self):\n",
    "        return 'yellow'\n",
    "fruit=apple()\n",
    "fruit.colour()"
   ]
  },
  {
   "cell_type": "code",
   "execution_count": 20,
   "id": "ebb7636b-b73d-491a-9899-abfde8b370f5",
   "metadata": {},
   "outputs": [
    {
     "data": {
      "text/plain": [
       "'yellow'"
      ]
     },
     "execution_count": 20,
     "metadata": {},
     "output_type": "execute_result"
    }
   ],
   "source": [
    "fruit=banana()\n",
    "fruit.colour()"
   ]
  },
  {
   "cell_type": "code",
   "execution_count": null,
   "id": "531568b7-ba48-41f4-921a-6ffc0b05d3cb",
   "metadata": {},
   "outputs": [],
   "source": []
  }
 ],
 "metadata": {
  "kernelspec": {
   "display_name": "Python 3 (ipykernel)",
   "language": "python",
   "name": "python3"
  },
  "language_info": {
   "codemirror_mode": {
    "name": "ipython",
    "version": 3
   },
   "file_extension": ".py",
   "mimetype": "text/x-python",
   "name": "python",
   "nbconvert_exporter": "python",
   "pygments_lexer": "ipython3",
   "version": "3.10.6"
  }
 },
 "nbformat": 4,
 "nbformat_minor": 5
}
