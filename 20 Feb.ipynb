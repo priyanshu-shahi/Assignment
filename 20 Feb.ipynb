{
 "cells": [
  {
   "cell_type": "markdown",
   "id": "72fcdb7d-cc2a-4384-b786-ab7cb1c2894f",
   "metadata": {},
   "source": [
    "ANSWER 1.\n",
    "\n",
    "GET and POST are HTTP request methods used to communicate between a client and a server.\n",
    "\n",
    "- GET: Used to request data from a specified resource. It sends data in the URL, visible to users, and is generally used for retrieving data. It has limitations on the amount of data that can be sent.\n",
    "\n",
    "- POST: Used to submit data to be processed to a specified resource. It sends data in the body of the request, not visible to users, and can handle larger amounts of data compared to GET. It's often used for submitting forms or uploading files."
   ]
  },
  {
   "cell_type": "markdown",
   "id": "7d797136-0e66-4727-a852-82d42a8e2ab5",
   "metadata": {},
   "source": [
    "ANSWER 2.\n",
    "\n",
    "`request` is used in Flask to handle incoming HTTP requests from clients. It provides access to data submitted in a request, such as form data or JSON payloads, and allows developers to interact with this data to process and respond to requests appropriately."
   ]
  },
  {
   "cell_type": "markdown",
   "id": "b4dffe82-5916-4c48-8797-e309ca0a0649",
   "metadata": {},
   "source": [
    "ANSWER 3.\n",
    "\n",
    "`redirect()` is used in Flask to redirect the client's browser to a different URL. It's commonly used after processing a request to redirect users to a different page, such as after successfully submitting a form or accessing a different part of the application."
   ]
  },
  {
   "cell_type": "code",
   "execution_count": null,
   "id": "de55ddd0-4666-47e7-9a59-65d2c0c6cc74",
   "metadata": {},
   "outputs": [],
   "source": []
  }
 ],
 "metadata": {
  "kernelspec": {
   "display_name": "Python 3 (ipykernel)",
   "language": "python",
   "name": "python3"
  },
  "language_info": {
   "codemirror_mode": {
    "name": "ipython",
    "version": 3
   },
   "file_extension": ".py",
   "mimetype": "text/x-python",
   "name": "python",
   "nbconvert_exporter": "python",
   "pygments_lexer": "ipython3",
   "version": "3.10.8"
  }
 },
 "nbformat": 4,
 "nbformat_minor": 5
}
