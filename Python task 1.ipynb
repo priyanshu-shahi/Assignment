{
 "cells": [
  {
   "cell_type": "code",
   "execution_count": 50,
   "id": "6fa1ca8e-1771-4739-9ced-d20350a1410e",
   "metadata": {},
   "outputs": [],
   "source": [
    "# ANSWER 1\n",
    "# In Python the for loop treats boolean variables as integers, our aim is to find the product of numbers given in the\n",
    "# list. Hence I am not taking boolean variable as number in my code otherwise the product will be 0\n",
    "\n",
    "def product(l):\n",
    "    flat_list=[]\n",
    "    p=1\n",
    "    for i in range (len(l)):\n",
    "        if isinstance(l[i],bool):\n",
    "            continue\n",
    "        if isinstance(l[i],int):\n",
    "            flat_list.append(l[i])\n",
    "        elif isinstance(l[i],(list,tuple,set)):\n",
    "            for j in l[i]:\n",
    "                if isinstance(j,bool):\n",
    "                    continue\n",
    "                if isinstance(j,int):\n",
    "                    flat_list.append(j)\n",
    "        elif isinstance(l[i],(dict)):\n",
    "            l2=l[i].keys()\n",
    "            l3=l[i].values()\n",
    "            for k in l2:\n",
    "                if isinstance(k,int):\n",
    "                    flat_list.append(k)\n",
    "            for m in l3:\n",
    "                if isinstance(m,int):\n",
    "                    flat_list.append(m)\n",
    "                elif isinstance(m,(list,tuple)):\n",
    "                    flat_list.extend(m)\n",
    "    from functools import reduce\n",
    "    p=list[reduce(lambda x,y:x*y,flat_list)]\n",
    "    \n",
    "    print('Flat list =',flat_list)\n",
    "    return p"
   ]
  },
  {
   "cell_type": "code",
   "execution_count": 51,
   "id": "9e27f645-6328-4aa9-bf25-b8a1113a0ec2",
   "metadata": {},
   "outputs": [
    {
     "name": "stdout",
     "output_type": "stream",
     "text": [
      "Flat list = [1, 2, 3, 4, 44, 55, 66, 34, 56, 78, 89, 34, 1, 2, 3, 1, 4, 34, 55, 67, 78, 89, 45, 22, 61, 34, 56]\n"
     ]
    },
    {
     "data": {
      "text/plain": [
       "list[4134711838987085478833841242112000]"
      ]
     },
     "execution_count": 51,
     "metadata": {},
     "output_type": "execute_result"
    }
   ],
   "source": [
    "l=[1,2,3,4, [44,55,66, True], False, (34,56,78,89,34), {1,2,3,3,2,1}, {1:34, \"key2\": [55, 67, 78, 89], 4: (45,  \n",
    "22, 61, 34)}, [56, 'data science'], 'Machine Learning']\n",
    "\n",
    "product(l)"
   ]
  },
  {
   "cell_type": "code",
   "execution_count": 13,
   "id": "6ef3321b-37d9-412a-8673-f74750f3141b",
   "metadata": {},
   "outputs": [
    {
     "name": "stdin",
     "output_type": "stream",
     "text": [
      "Enter the message to encrypt I want to become a Data Scientist\n"
     ]
    },
    {
     "name": "stdout",
     "output_type": "stream",
     "text": [
      "Encrypted message is - r$dzmg$gl$yvxlnv$z$wzgz$hxrvmgrhg\n"
     ]
    }
   ],
   "source": [
    "# ANSWER 2\n",
    "msg=str(input(\"Enter the message to encrypt\"))\n",
    "msg1=msg.lower()\n",
    "l4=str()\n",
    "for i in msg1:\n",
    "    if i.isalpha():\n",
    "        letter=ord(i)\n",
    "        encrypted_char=chr(ord('z')-(letter-ord('a')))\n",
    "        l4=l4+encrypted_char\n",
    "    elif i.isspace():\n",
    "        l4=l4 +'$'\n",
    "print(\"Encrypted message is -\",l4)"
   ]
  },
  {
   "cell_type": "code",
   "execution_count": null,
   "id": "0f9faa9c-6a43-4d98-a4a5-b32cdda3ddb3",
   "metadata": {},
   "outputs": [],
   "source": []
  }
 ],
 "metadata": {
  "kernelspec": {
   "display_name": "Python 3 (ipykernel)",
   "language": "python",
   "name": "python3"
  },
  "language_info": {
   "codemirror_mode": {
    "name": "ipython",
    "version": 3
   },
   "file_extension": ".py",
   "mimetype": "text/x-python",
   "name": "python",
   "nbconvert_exporter": "python",
   "pygments_lexer": "ipython3",
   "version": "3.10.6"
  }
 },
 "nbformat": 4,
 "nbformat_minor": 5
}
