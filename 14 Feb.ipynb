{
 "cells": [
  {
   "cell_type": "code",
   "execution_count": 3,
   "id": "89c7c467-5d17-49e0-9f33-c5cb04c27f0f",
   "metadata": {},
   "outputs": [],
   "source": [
    "# ANSWER 1\n",
    "# Multithreading in Python refers to the concurrent execution of multiple threads within a single program. A thread is the smallest unit of execution,\n",
    "# and multithreading allows different threads to run concurrently, potentially improving the program's performance and responsiveness.\n",
    "\n",
    "# Why Multithreading is Used:\n",
    "# Multithreading is used in Python for several reasons, including:\n",
    "# 1. Concurrency: It allows multiple tasks to execute concurrently, making it suitable for programs with parallelizable tasks.\n",
    "# 2. Responsiveness: Multithreading can enhance the responsiveness of applications, particularly in scenarios where tasks can be performed\n",
    "#    simultaneously without waiting for each other to complete.\n",
    "# 3. Resource Utilization:** It can improve the efficient utilization of CPU resources by allowing other threads to execute while some threads are\n",
    "#    waiting for I/O operations or other tasks.\n",
    "\n",
    "# The `threading` module is used to handle threads in Python. It provides a convenient way to create and manage threads, synchronization mechanisms,\n",
    "# and other tools for working with multithreaded applications."
   ]
  },
  {
   "cell_type": "code",
   "execution_count": null,
   "id": "e75961c6-b825-4e0e-aaed-972653571914",
   "metadata": {},
   "outputs": [],
   "source": [
    "# ANSWER 2\n",
    "# The `threading` module in Python is used for working with threads, providing a high-level interface for creating, controlling, and synchronizing\n",
    "# threads.\n",
    "\n",
    "# Here's the use of the mentioned functions:\n",
    "#1. activeCount()- Returns the number of Thread objects currently alive.\n",
    "# Example:\n",
    "import threading\n",
    "print(f\"Number of active threads: {threading.activeCount()}\")\n",
    "\n",
    "#2. currentThread()- Returns the current Thread object corresponding to the caller's thread of control.\n",
    "# Example:\n",
    "import threading\n",
    "current_thread = threading.currentThread()\n",
    "print(f\"Current Thread: {current_thread.name}\")\n",
    "\n",
    "# 3. enumerate()- Returns a list of all Thread objects currently alive.\n",
    "# Example:\n",
    "import threading\n",
    "threads = threading.enumerate()\n",
    "print(f\"All alive threads: {threads}\")"
   ]
  },
  {
   "cell_type": "code",
   "execution_count": 4,
   "id": "e4778c4e-e212-4bcc-88c6-d0f6e260f4fa",
   "metadata": {},
   "outputs": [
    {
     "name": "stdout",
     "output_type": "stream",
     "text": [
      "Thread is running\n",
      "Thread is running\n",
      "Thread is running\n"
     ]
    }
   ],
   "source": [
    "# ANSWER 3\n",
    "# Here's a brief explanation of the mentioned functions in the context of the `threading` module in Python:\n",
    "# 1. run()- Defines the code to be executed when a thread is started. This method needs to be overridden in a subclass.\n",
    "# Example:\n",
    "import threading\n",
    "class MyThread(threading.Thread):\n",
    "    def run(self):\n",
    "        print(\"Thread is running\")\n",
    "my_thread = MyThread()\n",
    "my_thread.start()\n",
    "\n",
    "# 2. start()- Initiates the thread's activity. It invokes the `run` method in a separate thread of control.\n",
    "# Example:\n",
    "import threading\n",
    "def my_function():\n",
    "    print(\"Thread is running\")\n",
    "my_thread = threading.Thread(target=my_function)\n",
    "my_thread.start()\n",
    "\n",
    "# 3. join()- Waits for the thread to complete its execution. It blocks the calling thread until the thread whose `join()` method is called is terminated.\n",
    "# Example:\n",
    "import threading\n",
    "def my_function():\n",
    "    print(\"Thread is running\")\n",
    "my_thread = threading.Thread(target=my_function)\n",
    "my_thread.start()\n",
    "my_thread.join()\n",
    "\n",
    "# 4. isAlive()- Returns `True` if the thread is alive (has been started and not yet terminated), and `False` otherwise.\n",
    "# Example:\n",
    "import threading\n",
    "import time\n",
    "def my_function():\n",
    "    time.sleep(2)\n",
    "    my_thread = threading.Thread(target=my_function)\n",
    "    my_thread.start()\n",
    "    print(f\"Is the thread alive? {my_thread.isAlive()}\")  # Will likely print True, as the thread is still running."
   ]
  },
  {
   "cell_type": "code",
   "execution_count": 32,
   "id": "64941a68-c126-47df-b7bb-5435a37cc1cf",
   "metadata": {},
   "outputs": [
    {
     "name": "stdout",
     "output_type": "stream",
     "text": [
      "Squares: [1, 4, 9, 16, 25]\n",
      "Cubes: [1, 8, 27, 64, 125]\n"
     ]
    }
   ],
   "source": [
    "# ANSWER 4\n",
    "\n",
    "import threading\n",
    "def calculate_squares(numbers):\n",
    "    squares = [num ** 2 for num in numbers]\n",
    "    print(\"Squares:\", squares)\n",
    "\n",
    "def calculate_cubes(numbers):\n",
    "    cubes = [num ** 3 for num in numbers]\n",
    "    print(\"Cubes:\", cubes)\n",
    "\n",
    "numbers = [1, 2, 3, 4, 5]\n",
    "\n",
    "thread_squares = threading.Thread(target=calculate_squares, args=(numbers,))\n",
    "thread_cubes = threading.Thread(target=calculate_cubes, args=(numbers,))\n",
    "\n",
    "thread_squares.start()\n",
    "thread_cubes.start()\n",
    "\n",
    "thread_squares.join()\n",
    "thread_cubes.join()\n",
    "\n"
   ]
  },
  {
   "cell_type": "code",
   "execution_count": 33,
   "id": "3aa2b978-0f85-401e-8096-19802a07cb68",
   "metadata": {},
   "outputs": [],
   "source": [
    "# ANSWER 5\n",
    "# Advantages of Multithreading:\n",
    "# 1.Concurrency: Multithreading allows multiple threads to execute concurrently, enabling the execution of multiple tasks simultaneously. This can\n",
    "#                lead to improved performance and responsiveness.\n",
    "# 2.Resource Utilization: Threads share the same process resources, such as memory space, which can lead to efficient resource utilization and reduced\n",
    "#                         overhead compared to multiple independent processes.\n",
    "# 3.Responsiveness: Multithreading can enhance the responsiveness of applications by allowing certain tasks to continue running even if others are\n",
    "#                   blocked, such as during I/O operations.\n",
    "# 4.Parallelism: Multithreading enables parallel execution of tasks on multi-core processors, taking advantage of the available hardware parallelism.\n",
    "\n",
    "\n",
    "# Disadvantages of Multithreading:\n",
    "# 1.Complexity: Multithreaded programs can be more complex to design, implement, and debug compared to single-threaded programs. Handling\n",
    "#              synchronization and avoiding race conditions adds complexity.\n",
    "\n",
    "# 2.Concurrency Issues: Synchronization issues, such as race conditions and deadlocks, can arise when multiple threads access shared data\n",
    "#                       simultaneously. Proper synchronization mechanisms are needed to address these issues.\n",
    "\n",
    "# 3.Debugging Challenges: Identifying and fixing bugs in multithreaded code can be challenging due to the non-deterministic nature of thread\n",
    "#                         execution and potential race conditions.\n",
    "\n",
    "# 4.Potential Overhead: Threads come with their own overhead, such as context switching and increased memory usage. In some cases, the overhead of\n",
    "#                       managing threads may outweigh the benefits, especially in certain types of applications."
   ]
  },
  {
   "cell_type": "code",
   "execution_count": null,
   "id": "3c73ddc3-b631-445b-a7a7-641c7d17f48f",
   "metadata": {},
   "outputs": [],
   "source": [
    "# ANSWER 6\n",
    "# Deadlocks: It is a situation in multithreading or multiprocessing where two or more threads or processes are unable to proceed because each is\n",
    "#           waiting for the other to release a resource. In other words, each thread holds a resource and is also waiting for another resource acquired by some other thread. Deadlocks can result in a standstill, where no progress is possible, and the program or system becomes unresponsive.\n",
    "\n",
    "# Race Conditions: It occurs in a multithreaded or multiprocessing environment when the behavior of a program depends on the relative timing of events\n",
    "#                  such as the order of execution of threads. It arises when multiple threads access shared data concurrently, and the final outcome\n",
    "#                 depends on the interleaving of their executions. If proper synchronization mechanisms are not in place, the program's behavior becomes unpredictable, leading to unexpected results or errors.\n",
    "\n",
    "In summary, deadlocks involve threads or processes being unable to proceed due to circular dependencies on resources, while race conditions occur when the outcome of a program depends on the non-deterministic order of execution of multiple threads accessing shared data. Both situations can lead to unpredictable behavior and are common challenges in concurrent programming."
   ]
  }
 ],
 "metadata": {
  "kernelspec": {
   "display_name": "Python 3 (ipykernel)",
   "language": "python",
   "name": "python3"
  },
  "language_info": {
   "codemirror_mode": {
    "name": "ipython",
    "version": 3
   },
   "file_extension": ".py",
   "mimetype": "text/x-python",
   "name": "python",
   "nbconvert_exporter": "python",
   "pygments_lexer": "ipython3",
   "version": "3.10.8"
  }
 },
 "nbformat": 4,
 "nbformat_minor": 5
}
