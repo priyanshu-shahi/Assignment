{
 "cells": [
  {
   "cell_type": "code",
   "execution_count": 9,
   "id": "3e45ced1-f291-4633-81ba-c3cbf62b7cf6",
   "metadata": {},
   "outputs": [],
   "source": [
    "## ANSWER 1.\n",
    "# 'def' keyword is used to create a function.\n",
    "\n",
    "# Program for required function is-\n",
    "def fx():\n",
    "    l=[]\n",
    "    for i in range(1,26):\n",
    "        if i%2!=0:\n",
    "            l.append(i)\n",
    "    return l"
   ]
  },
  {
   "cell_type": "code",
   "execution_count": 10,
   "id": "009b6ea4-a46b-4ccb-8960-608a9a1e04fe",
   "metadata": {},
   "outputs": [
    {
     "data": {
      "text/plain": [
       "[1, 3, 5, 7, 9, 11, 13, 15, 17, 19, 21, 23, 25]"
      ]
     },
     "execution_count": 10,
     "metadata": {},
     "output_type": "execute_result"
    }
   ],
   "source": [
    "fx()"
   ]
  },
  {
   "cell_type": "code",
   "execution_count": 11,
   "id": "af5edb90-af90-44dd-b024-4eb7cdb048a6",
   "metadata": {},
   "outputs": [],
   "source": [
    "## ANSWER 2.\n",
    "# *args is used in giving any number of input parameters (i.e user inputs) while defining a function whereas **kwargs are used in \n",
    "# giving any number of input parametrs (i.e user inputs) of specifically Dictionary datatype while defining a fuction\n",
    "\n",
    "# function for *args is-\n",
    "def fx1(*args):\n",
    "    return args"
   ]
  },
  {
   "cell_type": "code",
   "execution_count": 13,
   "id": "ba03c1d3-2b96-41d4-baae-9846354b0e2a",
   "metadata": {},
   "outputs": [
    {
     "data": {
      "text/plain": [
       "(1, 2, 3, 4, 'poppy')"
      ]
     },
     "execution_count": 13,
     "metadata": {},
     "output_type": "execute_result"
    }
   ],
   "source": [
    "fx1(1,2,3,4,'poppy')"
   ]
  },
  {
   "cell_type": "code",
   "execution_count": 14,
   "id": "740c6cf8-bf2d-4282-9adc-c99d9bf3a727",
   "metadata": {},
   "outputs": [],
   "source": [
    "# fucntion for **kwargs is-\n",
    "def fx2(**kwargs):\n",
    "    return kwargs"
   ]
  },
  {
   "cell_type": "code",
   "execution_count": 18,
   "id": "b8030d14-cfbe-47c4-a043-12c1ecac2712",
   "metadata": {},
   "outputs": [
    {
     "data": {
      "text/plain": [
       "{'key1': 1, 'key2': 2, 'key3': 3}"
      ]
     },
     "execution_count": 18,
     "metadata": {},
     "output_type": "execute_result"
    }
   ],
   "source": [
    "fx2(key1=1,key2=2,key3=3)"
   ]
  },
  {
   "cell_type": "code",
   "execution_count": 3,
   "id": "3c794c6d-a0a4-42b2-a95c-413c16a06f97",
   "metadata": {},
   "outputs": [
    {
     "name": "stdout",
     "output_type": "stream",
     "text": [
      "2\n",
      "4\n",
      "6\n",
      "8\n",
      "10\n"
     ]
    }
   ],
   "source": [
    "# ANSWER 3.\n",
    "# An iterator is a variable whose values can be extracted using a next() function.\n",
    "# iter() is used to initialise the iterator object.\n",
    "# next() is used for iteration.\n",
    "# Example-\n",
    "l=[2,4,6,8,10,12,14,16,18,20]\n",
    "l1=iter(l)\n",
    "for i in range(5):\n",
    "    print(next(l1))"
   ]
  },
  {
   "cell_type": "code",
   "execution_count": 4,
   "id": "19a7d8e3-ae45-4a41-8d24-959aa4461537",
   "metadata": {},
   "outputs": [
    {
     "name": "stdout",
     "output_type": "stream",
     "text": [
      "1\n",
      "4\n",
      "9\n",
      "16\n",
      "25\n",
      "36\n",
      "49\n",
      "64\n",
      "81\n",
      "100\n"
     ]
    }
   ],
   "source": [
    "# ANSWER 4.\n",
    "# A generator function is a function that is used to yield or generate values continuously and not at once,thus\n",
    "# helping in memory optimisation.\n",
    "# Yield keyword is used to throw the output values of a generator function without storing it.\n",
    "# Example- To print square of natural numbers upto 10\n",
    "def fx3(n):\n",
    "    a,b=1,1\n",
    "    for i in range (n):\n",
    "        c=a*b\n",
    "        yield c\n",
    "        a,b=a+1,b+1\n",
    "for i in fx3(10):\n",
    "    print(i)       "
   ]
  },
  {
   "cell_type": "code",
   "execution_count": 34,
   "id": "2b36a5e6-016a-43e7-a482-3620ac66dd34",
   "metadata": {},
   "outputs": [],
   "source": [
    "# ANSWER 5.\n",
    "def fx4():\n",
    "    for i in range (2,1000):\n",
    "        flag=0\n",
    "        for j in range (2,i):\n",
    "            if i%j==0:\n",
    "                flag=1\n",
    "                break\n",
    "        if flag==0:\n",
    "            yield(i)"
   ]
  },
  {
   "cell_type": "code",
   "execution_count": 35,
   "id": "c3933175-8a30-4936-992a-4b6add143d9d",
   "metadata": {},
   "outputs": [
    {
     "name": "stdout",
     "output_type": "stream",
     "text": [
      "2\n",
      "3\n",
      "5\n",
      "7\n",
      "11\n",
      "13\n",
      "17\n",
      "19\n",
      "23\n",
      "29\n",
      "31\n",
      "37\n",
      "41\n",
      "43\n",
      "47\n",
      "53\n",
      "59\n",
      "61\n",
      "67\n",
      "71\n"
     ]
    }
   ],
   "source": [
    "f4=fx4()\n",
    "for i in range (20):\n",
    "    print(next(f4))"
   ]
  },
  {
   "cell_type": "code",
   "execution_count": 5,
   "id": "69d141e8-5642-4ff9-a3ca-7db089e93cd7",
   "metadata": {},
   "outputs": [
    {
     "name": "stdout",
     "output_type": "stream",
     "text": [
      "0\n",
      "1\n",
      "1\n",
      "2\n",
      "3\n",
      "5\n",
      "8\n",
      "13\n",
      "21\n",
      "34\n"
     ]
    }
   ],
   "source": [
    "# ANSWER 6.\n",
    "\n",
    "First_digit=0\n",
    "Second_digit=1\n",
    "Third_digit=0\n",
    "counter=0\n",
    "while counter<10:\n",
    "    print(First_digit)\n",
    "    Third_digit=First_digit+Second_digit\n",
    "    First_digit=Second_digit\n",
    "    Second_digit=Third_digit\n",
    "    counter=counter+1   "
   ]
  },
  {
   "cell_type": "code",
   "execution_count": 8,
   "id": "84a4521d-f61f-4998-888f-58c4c7f416d1",
   "metadata": {},
   "outputs": [
    {
     "data": {
      "text/plain": [
       "['p', 'w', 's', 'k', 'i', 'l', 'l', 's']"
      ]
     },
     "execution_count": 8,
     "metadata": {},
     "output_type": "execute_result"
    }
   ],
   "source": [
    "# ANSWER 7.\n",
    "l=(\"pwskills\")\n",
    "[str(i) for i in l]"
   ]
  },
  {
   "cell_type": "code",
   "execution_count": 29,
   "id": "b3a90f46-eb5d-42f1-b171-4859303e9b8c",
   "metadata": {},
   "outputs": [
    {
     "name": "stdin",
     "output_type": "stream",
     "text": [
      "Enter the number 636\n"
     ]
    },
    {
     "name": "stdout",
     "output_type": "stream",
     "text": [
      "Palindrome\n"
     ]
    }
   ],
   "source": [
    "# ANSWER 8.\n",
    "n=int(input('Enter the number'))\n",
    "temp=n\n",
    "rev=0\n",
    "while n>0:\n",
    "    dig=n%10\n",
    "    rev=rev*10+dig\n",
    "    n=n//10\n",
    "if rev==temp:\n",
    "    print('Palindrome')\n",
    "else:\n",
    "    print('Not Palindrome')"
   ]
  },
  {
   "cell_type": "code",
   "execution_count": 34,
   "id": "90387037-e3de-45ff-811b-1b6f54a1a3a6",
   "metadata": {},
   "outputs": [
    {
     "data": {
      "text/plain": [
       "[1,\n",
       " 3,\n",
       " 5,\n",
       " 7,\n",
       " 9,\n",
       " 11,\n",
       " 13,\n",
       " 15,\n",
       " 17,\n",
       " 19,\n",
       " 21,\n",
       " 23,\n",
       " 25,\n",
       " 27,\n",
       " 29,\n",
       " 31,\n",
       " 33,\n",
       " 35,\n",
       " 37,\n",
       " 39,\n",
       " 41,\n",
       " 43,\n",
       " 45,\n",
       " 47,\n",
       " 49,\n",
       " 51,\n",
       " 53,\n",
       " 55,\n",
       " 57,\n",
       " 59,\n",
       " 61,\n",
       " 63,\n",
       " 65,\n",
       " 67,\n",
       " 69,\n",
       " 71,\n",
       " 73,\n",
       " 75,\n",
       " 77,\n",
       " 79,\n",
       " 81,\n",
       " 83,\n",
       " 85,\n",
       " 87,\n",
       " 89,\n",
       " 91,\n",
       " 93,\n",
       " 95,\n",
       " 97,\n",
       " 99]"
      ]
     },
     "execution_count": 34,
     "metadata": {},
     "output_type": "execute_result"
    }
   ],
   "source": [
    "# ANSWER 9.\n",
    "[i for i in range(1,101) if i%2!=0]"
   ]
  },
  {
   "cell_type": "code",
   "execution_count": null,
   "id": "417a8fac-e08c-4b7f-ba84-e134094e87b9",
   "metadata": {},
   "outputs": [],
   "source": []
  }
 ],
 "metadata": {
  "kernelspec": {
   "display_name": "Python 3 (ipykernel)",
   "language": "python",
   "name": "python3"
  },
  "language_info": {
   "codemirror_mode": {
    "name": "ipython",
    "version": 3
   },
   "file_extension": ".py",
   "mimetype": "text/x-python",
   "name": "python",
   "nbconvert_exporter": "python",
   "pygments_lexer": "ipython3",
   "version": "3.10.6"
  }
 },
 "nbformat": 4,
 "nbformat_minor": 5
}
